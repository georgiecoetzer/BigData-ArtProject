{
 "cells": [
  {
   "cell_type": "markdown",
   "id": "83c448a4",
   "metadata": {},
   "source": [
    "<h2>Scrapes Christies Auction Records for Auction URLs and Information<h2>"
   ]
  },
  {
   "cell_type": "code",
   "execution_count": 1,
   "id": "70340240",
   "metadata": {},
   "outputs": [],
   "source": [
    "#imports everything needed to scrape\n",
    "from selenium import webdriver\n",
    "from selenium.webdriver.common.keys import Keys\n",
    "from selenium.webdriver.common.by import By\n",
    "from selenium.webdriver.support.ui import WebDriverWait\n",
    "from selenium.webdriver.support import expected_conditions as EC\n",
    "from selenium.webdriver.common.action_chains import ActionChains\n",
    "import pandas as pd\n",
    "import numpy as np\n",
    "import time\n",
    "import random\n",
    "import re"
   ]
  },
  {
   "cell_type": "code",
   "execution_count": 2,
   "id": "d7324496",
   "metadata": {},
   "outputs": [],
   "source": [
    "df = pd.read_csv ('Art_Object_URL.csv')"
   ]
  },
  {
   "cell_type": "code",
   "execution_count": 3,
   "id": "bc4386b6",
   "metadata": {},
   "outputs": [
    {
     "data": {
      "text/html": [
       "<div>\n",
       "<style scoped>\n",
       "    .dataframe tbody tr th:only-of-type {\n",
       "        vertical-align: middle;\n",
       "    }\n",
       "\n",
       "    .dataframe tbody tr th {\n",
       "        vertical-align: top;\n",
       "    }\n",
       "\n",
       "    .dataframe thead th {\n",
       "        text-align: right;\n",
       "    }\n",
       "</style>\n",
       "<table border=\"1\" class=\"dataframe\">\n",
       "  <thead>\n",
       "    <tr style=\"text-align: right;\">\n",
       "      <th></th>\n",
       "      <th>index</th>\n",
       "      <th>Art_URL</th>\n",
       "    </tr>\n",
       "  </thead>\n",
       "  <tbody>\n",
       "    <tr>\n",
       "      <th>0</th>\n",
       "      <td>27856</td>\n",
       "      <td>https://www.christies.com/lot/lot-6202478?ldp_...</td>\n",
       "    </tr>\n",
       "    <tr>\n",
       "      <th>1</th>\n",
       "      <td>63471</td>\n",
       "      <td>https://www.christies.com/lot/lot-5813514?ldp_...</td>\n",
       "    </tr>\n",
       "    <tr>\n",
       "      <th>2</th>\n",
       "      <td>4299</td>\n",
       "      <td>https://onlineonly.christies.com/s/collector/l...</td>\n",
       "    </tr>\n",
       "    <tr>\n",
       "      <th>3</th>\n",
       "      <td>23452</td>\n",
       "      <td>https://www.christies.com/lot/lot-6233769?ldp_...</td>\n",
       "    </tr>\n",
       "    <tr>\n",
       "      <th>4</th>\n",
       "      <td>12077</td>\n",
       "      <td>https://onlineonly.christies.com/s/old-master-...</td>\n",
       "    </tr>\n",
       "    <tr>\n",
       "      <th>5</th>\n",
       "      <td>28560</td>\n",
       "      <td>https://www.christies.com/lot/lot-6196270?ldp_...</td>\n",
       "    </tr>\n",
       "    <tr>\n",
       "      <th>6</th>\n",
       "      <td>46805</td>\n",
       "      <td>https://www.christies.com/lot/lot-6059129?ldp_...</td>\n",
       "    </tr>\n",
       "    <tr>\n",
       "      <th>7</th>\n",
       "      <td>28400</td>\n",
       "      <td>https://onlineonly.christies.com/s/first-open-...</td>\n",
       "    </tr>\n",
       "    <tr>\n",
       "      <th>8</th>\n",
       "      <td>5394</td>\n",
       "      <td>https://onlineonly.christies.com/s/first-open-...</td>\n",
       "    </tr>\n",
       "    <tr>\n",
       "      <th>9</th>\n",
       "      <td>3154</td>\n",
       "      <td>https://onlineonly.christies.com/s/vente-en-li...</td>\n",
       "    </tr>\n",
       "  </tbody>\n",
       "</table>\n",
       "</div>"
      ],
      "text/plain": [
       "   index                                            Art_URL\n",
       "0  27856  https://www.christies.com/lot/lot-6202478?ldp_...\n",
       "1  63471  https://www.christies.com/lot/lot-5813514?ldp_...\n",
       "2   4299  https://onlineonly.christies.com/s/collector/l...\n",
       "3  23452  https://www.christies.com/lot/lot-6233769?ldp_...\n",
       "4  12077  https://onlineonly.christies.com/s/old-master-...\n",
       "5  28560  https://www.christies.com/lot/lot-6196270?ldp_...\n",
       "6  46805  https://www.christies.com/lot/lot-6059129?ldp_...\n",
       "7  28400  https://onlineonly.christies.com/s/first-open-...\n",
       "8   5394  https://onlineonly.christies.com/s/first-open-...\n",
       "9   3154  https://onlineonly.christies.com/s/vente-en-li..."
      ]
     },
     "execution_count": 3,
     "metadata": {},
     "output_type": "execute_result"
    }
   ],
   "source": [
    "shuffled = df.sample(frac=1, random_state=7).reset_index()\n",
    "shuffled.head(10)"
   ]
  },
  {
   "cell_type": "code",
   "execution_count": 4,
   "id": "894a4fa5",
   "metadata": {},
   "outputs": [
    {
     "name": "stderr",
     "output_type": "stream",
     "text": [
      "/var/folders/48/1t2lf7js69g6my_l4x0npdrw0000gn/T/ipykernel_28354/1960765232.py:3: DeprecationWarning: executable_path has been deprecated, please pass in a Service object\n",
      "  driver = webdriver.Chrome(Path)\n"
     ]
    }
   ],
   "source": [
    "#given a path launches a website\n",
    "Path = \"/Users/ramirostorni/Documents/chromedriver\"\n",
    "driver = webdriver.Chrome(Path)"
   ]
  },
  {
   "cell_type": "code",
   "execution_count": 5,
   "id": "fca9d998",
   "metadata": {},
   "outputs": [],
   "source": [
    "def CookieCloser():\n",
    "    try:\n",
    "        cookie_event = WebDriverWait(driver, .05).until(\n",
    "            EC.presence_of_element_located((By.ID ,\"onetrust-accept-btn-handler\"))\n",
    "        )\n",
    "        cookie_event.click()\n",
    "    except:\n",
    "        pass"
   ]
  },
  {
   "cell_type": "code",
   "execution_count": 6,
   "id": "fef48515",
   "metadata": {},
   "outputs": [],
   "source": [
    "def ClickEmail():\n",
    "    try:\n",
    "        email_event = WebDriverWait(driver, .05).until(\n",
    "            EC.presence_of_element_located((By.ID ,\"close_signup\"))\n",
    "        )\n",
    "        time.sleep(.05)\n",
    "        email_event.click()\n",
    "    except:\n",
    "        pass"
   ]
  },
  {
   "cell_type": "code",
   "execution_count": 7,
   "id": "9428e01e",
   "metadata": {},
   "outputs": [],
   "source": [
    "def GetArtistName():\n",
    "    try:\n",
    "        Artist = WebDriverWait(driver, 2).until(\n",
    "            EC.presence_of_element_located((By.CLASS_NAME, 'chr-lot-header__artist-name'))\n",
    "        )\n",
    "    except:\n",
    "        Artist = \"No Name\"\n",
    "        return Artist\n",
    "        \n",
    "#     print(\"ARTIST NAME:\", Artist.text)\n",
    "    return Artist.text"
   ]
  },
  {
   "cell_type": "code",
   "execution_count": 8,
   "id": "beb57783",
   "metadata": {},
   "outputs": [],
   "source": [
    "def GetArtTitle():\n",
    "    try:\n",
    "        ArtTitle = WebDriverWait(driver, 2).until(\n",
    "            EC.presence_of_element_located((By.TAG_NAME, \"h1\"))\n",
    "        )\n",
    "    except:\n",
    "        ArtTitle = \"No Name\"\n",
    "        return ArtTitle\n",
    "    \n",
    "    return ArtTitle.text"
   ]
  },
  {
   "cell_type": "code",
   "execution_count": 9,
   "id": "a0c79674",
   "metadata": {},
   "outputs": [],
   "source": [
    "def GetArtPrice():\n",
    "    try:\n",
    "        Price = WebDriverWait(driver, 2).until(\n",
    "            EC.presence_of_element_located((By.CLASS_NAME, 'chr-lot-header__value-field'))\n",
    "        )\n",
    "    except:\n",
    "        Price = \"0\"\n",
    "        return Price\n",
    "    \n",
    "#     print(\"ART PRICE:\", Price.text)\n",
    "    return Price.text"
   ]
  },
  {
   "cell_type": "code",
   "execution_count": 10,
   "id": "d31f9518",
   "metadata": {},
   "outputs": [],
   "source": [
    "def GetEstPrice():\n",
    "    try:\n",
    "        estemated_price = WebDriverWait(driver, 2).until(\n",
    "            EC.presence_of_element_located((By.CLASS_NAME, 'chr-lot-header__estimate-details'))\n",
    "        )\n",
    "    except:\n",
    "        estemated_price = \"0\"\n",
    "        return estemated_price\n",
    "        \n",
    "#     print(\"EST PRICE:\", estemated_price.text)   \n",
    "    return estemated_price.text"
   ]
  },
  {
   "cell_type": "code",
   "execution_count": 11,
   "id": "1f0f205a",
   "metadata": {},
   "outputs": [],
   "source": [
    "def GetAuctionTitle():\n",
    "    try:\n",
    "        AuctionTitle = WebDriverWait(driver, 5).until(\n",
    "            EC.presence_of_element_located((By.CLASS_NAME, 'chr-lot-header__breadcrumb-detail'))\n",
    "        )\n",
    "        \n",
    "    except:\n",
    "        AuctionTitle = \"0\"\n",
    "        print(\"problem with Auction title\")\n",
    "        return AuctionTitle\n",
    "        \n",
    "    return AuctionTitle.text"
   ]
  },
  {
   "cell_type": "code",
   "execution_count": 12,
   "id": "11805de9",
   "metadata": {},
   "outputs": [],
   "source": [
    "def GetCloseDate():\n",
    "    try:\n",
    "        closeDate = WebDriverWait(driver, 2).until(\n",
    "            EC.presence_of_element_located((By.CLASS_NAME, 'chr-lot-timer'))\n",
    "        )\n",
    "    except:\n",
    "        closeDate = \"0\"\n",
    "        print(\"Small problem with close date\")\n",
    "        return closeDate\n",
    "        \n",
    "    return closeDate.text"
   ]
  },
  {
   "cell_type": "code",
   "execution_count": 13,
   "id": "abf68740",
   "metadata": {},
   "outputs": [],
   "source": [
    "def GetArtDetails():\n",
    "    try:\n",
    "        details = WebDriverWait(driver, 10).until(\n",
    "            EC.presence_of_element_located((By.ID, 'sect_0'))\n",
    "        )\n",
    "    except:\n",
    "        details = \"0\"\n",
    "        print(\"error in art details\")\n",
    "        return details\n",
    "    \n",
    "    return details.text"
   ]
  },
  {
   "cell_type": "code",
   "execution_count": 14,
   "id": "2135b9bf",
   "metadata": {},
   "outputs": [],
   "source": [
    "def getArtistLife(details):\n",
    "    \n",
    "    try:  \n",
    "        BirthYear = re.search(r'(?<=b\\. )\\w+', details)\n",
    "        DeathYear = \"0\"\n",
    "        life = (BirthYear.group(0), DeathYear)\n",
    "    except:\n",
    "        \n",
    "        try:\n",
    "            BirthYear = re.search(r'(?<=b\\.)\\w+', details)\n",
    "            DeathYear = \"0\"\n",
    "            life = (BirthYear.group(0), DeathYear)\n",
    "        except:\n",
    "            \n",
    "            try:\n",
    "                BirthYear = re.search(r'(?<=\\()\\w+', details)\n",
    "                DeathYear = re.search(r'(?<=-)\\w+', details)\n",
    "                life = (BirthYear.group(0), DeathYear.group(0))\n",
    "            except:\n",
    "                life = (\"0\", \"0\")\n",
    "                \n",
    "       \n",
    "    return life"
   ]
  },
  {
   "cell_type": "code",
   "execution_count": 15,
   "id": "85286191",
   "metadata": {},
   "outputs": [],
   "source": [
    "def getCreationDate(details):\n",
    "    try:\n",
    "        CreationDate = re.search(r'(?<=in )\\d+', details)\n",
    "    except:\n",
    "        CreationDate = 0\n",
    "        return CreationDate\n",
    "    \n",
    "    try:\n",
    "        CreationDate.group(0)\n",
    "    except:\n",
    "        CreationDate = 0\n",
    "        return CreationDate\n",
    "    \n",
    "    return CreationDate.group(0)"
   ]
  },
  {
   "cell_type": "code",
   "execution_count": 16,
   "id": "96a60bfe",
   "metadata": {},
   "outputs": [],
   "source": [
    "def GetDimentions(details):\n",
    "    try:\n",
    "        split_details = details.split(\"\\n\")\n",
    "        for items in split_details:\n",
    "            if \" x \" in items:\n",
    "                dimentions = re.search(r'\\([^()]*\\)', items)\n",
    "                return dimentions.group(0)   \n",
    "    except:\n",
    "        dimentions = \"0\"\n",
    "        pass\n",
    "        return dimentions"
   ]
  },
  {
   "cell_type": "code",
   "execution_count": 17,
   "id": "0ae6dcd2",
   "metadata": {},
   "outputs": [],
   "source": [
    "#Artist Info\n",
    "Artist_Name = [] \n",
    "Artist_Birth = []\n",
    "Artist_Death = [] \n",
    "\n",
    "#Art Info\n",
    "Artwork_Title = [] \n",
    "Date_of_Creation = [] \n",
    "Dimetions = []\n",
    "\n",
    "#Prices\n",
    "Price_Estimate = [] \n",
    "Sold_Price = [] \n",
    "Close_Date = [] \n",
    "\n",
    "#Auction Info\n",
    "Auction_Title = [] \n",
    "\n",
    "\n"
   ]
  },
  {
   "cell_type": "markdown",
   "id": "31d344c9",
   "metadata": {},
   "source": [
    "## Data Collection Loop"
   ]
  },
  {
   "cell_type": "code",
   "execution_count": 18,
   "id": "c6bfe807",
   "metadata": {},
   "outputs": [
    {
     "ename": "NameError",
     "evalue": "name 'img_Url' is not defined",
     "output_type": "error",
     "traceback": [
      "\u001b[0;31m---------------------------------------------------------------------------\u001b[0m",
      "\u001b[0;31mNameError\u001b[0m                                 Traceback (most recent call last)",
      "\u001b[0;32m/var/folders/48/1t2lf7js69g6my_l4x0npdrw0000gn/T/ipykernel_28354/1747161193.py\u001b[0m in \u001b[0;36m<module>\u001b[0;34m\u001b[0m\n\u001b[1;32m     30\u001b[0m     \u001b[0mArtist_Birth\u001b[0m\u001b[0;34m.\u001b[0m\u001b[0mappend\u001b[0m\u001b[0;34m(\u001b[0m\u001b[0mBirth\u001b[0m\u001b[0;34m)\u001b[0m\u001b[0;34m\u001b[0m\u001b[0;34m\u001b[0m\u001b[0m\n\u001b[1;32m     31\u001b[0m     \u001b[0mArtist_Death\u001b[0m\u001b[0;34m.\u001b[0m\u001b[0mappend\u001b[0m\u001b[0;34m(\u001b[0m\u001b[0mDeath\u001b[0m\u001b[0;34m)\u001b[0m\u001b[0;34m\u001b[0m\u001b[0;34m\u001b[0m\u001b[0m\n\u001b[0;32m---> 32\u001b[0;31m     \u001b[0mimg_Url\u001b[0m\u001b[0;34m.\u001b[0m\u001b[0mappend\u001b[0m\u001b[0;34m(\u001b[0m\u001b[0mImage_URL\u001b[0m\u001b[0;34m)\u001b[0m\u001b[0;34m\u001b[0m\u001b[0;34m\u001b[0m\u001b[0m\n\u001b[0m\u001b[1;32m     33\u001b[0m     \u001b[0mArtwork_Title\u001b[0m\u001b[0;34m.\u001b[0m\u001b[0mappend\u001b[0m\u001b[0;34m(\u001b[0m\u001b[0mArtTitle\u001b[0m\u001b[0;34m)\u001b[0m\u001b[0;34m\u001b[0m\u001b[0;34m\u001b[0m\u001b[0m\n\u001b[1;32m     34\u001b[0m     \u001b[0mDate_of_Creation\u001b[0m\u001b[0;34m.\u001b[0m\u001b[0mappend\u001b[0m\u001b[0;34m(\u001b[0m\u001b[0mCreationDate\u001b[0m\u001b[0;34m)\u001b[0m\u001b[0;34m\u001b[0m\u001b[0;34m\u001b[0m\u001b[0m\n",
      "\u001b[0;31mNameError\u001b[0m: name 'img_Url' is not defined"
     ]
    }
   ],
   "source": [
    "for URL in shuffled[\"Art_URL\"]:\n",
    "    \n",
    "    #opens URL and Clicks cookies popup\n",
    "    driver.get(URL)\n",
    "    driver.maximize_window()\n",
    "    CookieCloser()\n",
    "    \n",
    "    #Gets the art work detail paragraph from the webpage\n",
    "    ArtDetails = GetArtDetails()\n",
    "    \n",
    "    #Gathers Artist information\n",
    "    Artist = GetArtistName()\n",
    "    Birth = getArtistLife(ArtDetails)[0]\n",
    "    Death = getArtistLife(ArtDetails)[1]\n",
    "    \n",
    "    #Gathers Artwork information\n",
    "    ArtTitle = GetArtTitle()\n",
    "    Price = GetArtPrice()\n",
    "    EstPrice = GetEstPrice()\n",
    "    CreationDate = getCreationDate(ArtDetails)\n",
    "    Dimentions_CM = GetDimentions(ArtDetails)\n",
    "    \n",
    "    #Gathers Auction Information\n",
    "    CloseDate = GetCloseDate()\n",
    "    AuctionTitle = GetAuctionTitle()\n",
    "    \n",
    "    \n",
    "    #Appends all of the gathered info to lists\n",
    "    Artist_Name.append(Artist)\n",
    "    Artist_Birth.append(Birth)\n",
    "    Artist_Death.append(Death)\n",
    "    img_Url.append(Image_URL)\n",
    "    Artwork_Title.append(ArtTitle)\n",
    "    Date_of_Creation.append(CreationDate)\n",
    "    Dimetions.append(Dimentions_CM)\n",
    "    Price_Estimate.append(EstPrice)\n",
    "    Sold_Price.append(Price)\n",
    "    Close_Date.append(CloseDate)\n",
    "    Auction_Title.append(AuctionTitle)\n",
    "    "
   ]
  },
  {
   "cell_type": "markdown",
   "id": "d615d33e",
   "metadata": {},
   "source": [
    "## slightly cleans the data and packs it into a data frame"
   ]
  },
  {
   "cell_type": "code",
   "execution_count": null,
   "id": "18ec50b7",
   "metadata": {},
   "outputs": [],
   "source": [
    "Artists = []\n",
    "for names in Artist_Name:\n",
    "    CleanName = re.sub(r'\\([^()]*\\)', '', names)\n",
    "    Artists.append(CleanName)"
   ]
  },
  {
   "cell_type": "code",
   "execution_count": null,
   "id": "827a930c",
   "metadata": {},
   "outputs": [],
   "source": [
    "Close = []\n",
    "for dates in Close_Date:\n",
    "    dates = dates.replace(\"\\n\", \"\")\n",
    "    dates = dates.replace(\"Closed: \", \"\")\n",
    "    Close.append(dates)"
   ]
  },
  {
   "cell_type": "code",
   "execution_count": null,
   "id": "3c1856b6",
   "metadata": {
    "scrolled": true
   },
   "outputs": [],
   "source": [
    "df = pd.DataFrame(list(zip(Artists, Artist_Birth, Artist_Death, Artwork_Title, Date_of_Creation, Price_Estimate, Sold_Price,Dimetions , Close, Auction_Title)),\n",
    "               columns =['Artist', 'Birth', 'Death', 'Art Title', 'DoC', 'Estimate', 'price','Dimentions', 'close date', 'Auction Title'])\n",
    "\n",
    "df.head(100)"
   ]
  },
  {
   "cell_type": "code",
   "execution_count": null,
   "id": "47db81f2",
   "metadata": {},
   "outputs": [],
   "source": [
    "#creates copy of the data so we can remove all works without dimentions\n",
    "copy = df.copy()\n",
    "copy.shape"
   ]
  },
  {
   "cell_type": "code",
   "execution_count": null,
   "id": "ec283b3c",
   "metadata": {},
   "outputs": [],
   "source": [
    "copy.drop(copy.index[copy['Dimentions'] == \"0\"], inplace=True)"
   ]
  },
  {
   "cell_type": "code",
   "execution_count": null,
   "id": "b86a149a",
   "metadata": {},
   "outputs": [],
   "source": [
    "copy.shape"
   ]
  },
  {
   "cell_type": "code",
   "execution_count": null,
   "id": "5fcf70a5",
   "metadata": {},
   "outputs": [],
   "source": [
    "# copy.to_csv(\"Art_Object_Info2.csv\", index = False)"
   ]
  },
  {
   "cell_type": "code",
   "execution_count": null,
   "id": "7e862393",
   "metadata": {},
   "outputs": [],
   "source": []
  }
 ],
 "metadata": {
  "kernelspec": {
   "display_name": "Python 3 (ipykernel)",
   "language": "python",
   "name": "python3"
  },
  "language_info": {
   "codemirror_mode": {
    "name": "ipython",
    "version": 3
   },
   "file_extension": ".py",
   "mimetype": "text/x-python",
   "name": "python",
   "nbconvert_exporter": "python",
   "pygments_lexer": "ipython3",
   "version": "3.9.7"
  }
 },
 "nbformat": 4,
 "nbformat_minor": 5
}
