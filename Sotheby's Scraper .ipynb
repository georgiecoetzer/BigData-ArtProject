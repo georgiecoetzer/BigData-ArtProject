{
 "cells": [
  {
   "cell_type": "markdown",
   "metadata": {},
   "source": [
    "# Auction House Data Collection\n",
    "This Jupyter notebooks contains a program to scrape Auction Results from Sothebys Auction House"
   ]
  },
  {
   "cell_type": "markdown",
   "metadata": {},
   "source": [
    "## Function to Scroll to Bottom of Page\n",
    "This is needed as page continuously loads more auction results as the user scrolls down the page"
   ]
  },
  {
   "cell_type": "code",
   "execution_count": 1,
   "metadata": {},
   "outputs": [],
   "source": [
    "import time\n",
    "def scroll_down():\n",
    "    \"\"\"A method for scrolling the page.\"\"\"\n",
    "\n",
    "    # Get scroll height.\n",
    "    last_height = driver.execute_script(\"return document.body.scrollHeight\")\n",
    "\n",
    "    while True:\n",
    "\n",
    "        # Scroll down to the bottom.\n",
    "        driver.execute_script(\"window.scrollTo(0, document.body.scrollHeight);\")\n",
    "\n",
    "        # Wait to load the page.\n",
    "        time.sleep(5)\n",
    "\n",
    "        # Calculate new scroll height and compare with last scroll height.\n",
    "        new_height = driver.execute_script(\"return document.body.scrollHeight\")\n",
    "\n",
    "        if new_height == last_height:\n",
    "\n",
    "            break\n",
    "\n",
    "        last_height = new_height"
   ]
  },
  {
   "cell_type": "markdown",
   "metadata": {},
   "source": [
    "# Function to open & switch to a new window\n",
    "\n",
    "\n"
   ]
  },
  {
   "cell_type": "code",
   "execution_count": 2,
   "metadata": {},
   "outputs": [],
   "source": [
    "def open_window():\n",
    "    #open a new window\n",
    "    driver.execute_script(\"window.open('');\")\n",
    "\n",
    "    #switch to new window\n",
    "    driver.switch_to.window(driver.window_handles[1])\n"
   ]
  },
  {
   "cell_type": "markdown",
   "metadata": {},
   "source": [
    "# Part 2: Get URLS for Individual Art Pieces\n",
    "#### - Iterate through Auction urls and extract art piece url"
   ]
  },
  {
   "cell_type": "markdown",
   "metadata": {},
   "source": [
    "## Apply filters on Auction Lots"
   ]
  },
  {
   "cell_type": "code",
   "execution_count": 3,
   "metadata": {},
   "outputs": [],
   "source": [
    "def apply_auction_filters_om(auction_url):\n",
    "    \n",
    "    #Check for filters on art pieces to get the categories we want \"Old Master Paintings\", \n",
    "    # \"19th century European Paintings\", \"Old Master Paintings\"\n",
    "\n",
    "    # Check for \"show more\" filters\n",
    "    try:\n",
    "        show_more_filters = driver.find_element(By.XPATH, '//*[text()=\"show more\"]')\n",
    "        show_more_filters.click()\n",
    "\n",
    "    except NoSuchElementException:\n",
    "        pass\n",
    "    \n",
    "    try:\n",
    "        show_more_filters = driver.find_element(By.XPATH, '//*[text()=\"show more\"]')\n",
    "        show_more_filters.click()\n",
    "        \n",
    "\n",
    "    except NoSuchElementException:\n",
    "        pass\n",
    "    \n",
    "    try:\n",
    "        # Check for \"Old master Paintings\" filter\n",
    "        driver.find_element(By.XPATH, '//*[text()=\"Old Master Paintings\"]')\n",
    " \n",
    "        new_auction_url = auction_url.split(\"?\")\n",
    "        url = new_auction_url[0]+ \"?\" + \"departments%5B0%5D=Old+Master+Paintings&lotFilter=AllLots\"\n",
    "\n",
    "        driver.get(url)\n",
    "        return True\n",
    "        \n",
    "    except NoSuchElementException:  \n",
    "        return False\n",
    "    return False\n",
    "\n"
   ]
  },
  {
   "cell_type": "code",
   "execution_count": 4,
   "metadata": {},
   "outputs": [],
   "source": [
    "def apply_auction_filters_im(auction_url):\n",
    "    try:\n",
    "        show_more_filters = driver.find_element(By.XPATH, '//*[text()=\"show more\"]')\n",
    "        show_more_filters.click()\n",
    "\n",
    "    except NoSuchElementException:\n",
    "        pass\n",
    "    \n",
    "    try:\n",
    "        show_more_filters = driver.find_element(By.XPATH, '//*[text()=\"show more\"]')\n",
    "        show_more_filters.click()\n",
    "        \n",
    "\n",
    "    except NoSuchElementException:\n",
    "        pass\n",
    "\n",
    "    # Check for \"Impressionist/Modern\" filter\n",
    "    try:\n",
    "        # Check for \"19th Century Ptgs\" filter\n",
    "        driver.find_element(By.XPATH, '//*[text()=\"Impressionist/Modern\"]')\n",
    "        new_auction_url = auction_url.split(\"?\")\n",
    "        url = new_auction_url[0]+ \"?\" +\"departments%5B0%5D=Impressionist%2FModern&lotFilter=AllLots\"\n",
    "        driver.get(url)\n",
    "        return True\n",
    "        \n",
    "    except NoSuchElementException:  \n",
    "        return False\n",
    "    \n",
    "\n",
    "\n",
    "\n"
   ]
  },
  {
   "cell_type": "code",
   "execution_count": 5,
   "metadata": {},
   "outputs": [],
   "source": [
    "def apply_auction_filters_19th_cnt(auction_url):\n",
    "    \n",
    "    #Check for filters on art pieces to get the categories we want \"Old Master Paintings\", \n",
    "    # \"19th century European Paintings\", \"Old Master Paintings\"\n",
    "    #<p class=\"css-knlulh\">show more</p>\n",
    "    try:\n",
    "        show_more_filters = driver.find_element(By.XPATH, '//*[text()=\"show more\"]')\n",
    "        show_more_filters.click()\n",
    "\n",
    "    except NoSuchElementException:\n",
    "        pass\n",
    "    \n",
    "    try:\n",
    "        show_more_filters = driver.find_element(By.XPATH, '//*[text()=\"show more\"]')\n",
    "        show_more_filters.click()\n",
    "        \n",
    "\n",
    "    except NoSuchElementException:\n",
    "        pass\n",
    "    \n",
    "    \n",
    "\n",
    "    try:\n",
    "        # Check for \"19th Century Ptgs\" filter\n",
    "        driver.find_element(By.XPATH, '//*[text()=\"19th Century Ptgs\"]') \n",
    "        new_auction_url = auction_url.split(\"?\")\n",
    "        url = new_auction_url[0]+ \"?\" +\"departments%5B0%5D=19th+Century+Ptgs&lotFilter=AllLots\"\n",
    "        driver.get(url)\n",
    "        return True\n",
    "        \n",
    "    except NoSuchElementException:\n",
    "        return False\n",
    "    return False"
   ]
  },
  {
   "cell_type": "markdown",
   "metadata": {},
   "source": [
    "## Extract links for each lot in an Auction"
   ]
  },
  {
   "cell_type": "code",
   "execution_count": 6,
   "metadata": {},
   "outputs": [],
   "source": [
    "# Function to extract lot links from a auction url\n",
    "def extract_lot_links():\n",
    "    lots = driver.find_elements_by_class_name(\"css-ytumd6\")\n",
    "    #<div class=\"title expandToThreeLines\">\n",
    "    lot_urls = []\n",
    "    for lot in lots:\n",
    "        url = lot.get_attribute('href')\n",
    "        lot_urls.append(url)\n",
    "        \n",
    "    remove_duplicates = set(lot_urls)   \n",
    "    lots = list(remove_duplicates)\n",
    "    \n",
    "    return lots\n",
    "    "
   ]
  },
  {
   "cell_type": "markdown",
   "metadata": {},
   "source": [
    "## Function to get Auction Name"
   ]
  },
  {
   "cell_type": "code",
   "execution_count": 7,
   "metadata": {},
   "outputs": [],
   "source": [
    "def get_auction_name():\n",
    "    #c<div class=\"css-17pq18\"><div class=\"css-ijlgxa\"><p class=\"paragraph-module_paragraph18Regular__34C1i css-1omq88j\">Auction Closed </p><p class=\"paragraph-module_paragraph16Regular__15DM4 css-14did0o\">Auction Closed </p><p class=\"paragraph-module_paragraph14Regular__2yq4S css-1b67an3\">Auction Closed </p></div><h1 class=\"headline-module_headline48Regular__3hPbC css-lpf1ap\" data-testid=\"header-desktop\">Modernismo: Spanish Artists of the 20th Century</h1><h1 class=\"headline-module_headline32Regular__1lPTc css-7q10ur\" data-testid=\"header-tablet\">Modernismo: Spanish Artists of the 20th Century</h1><h1 class=\"headline-module_headline28Regular__4N1Ch css-1um9nqs\" data-testid=\"header-mobile\">Modernismo: Spanish Artists of the 20th Century</h1><div class=\"css-19ct9dd\"><div class=\"css-1bnt3nz\"><p>14 April 2022<!-- --> • 12:00 EDT</p><div class=\"css-hyxlzm\"><button type=\"button\" aria-disabled=\"false\" class=\"css-gmc4gd button-module_button_regular_icon__uYVGa button-module_button__4s-13 button-module_button_tertiary__1OxGl\"><img class=\"css-1z62el-info-icon\" alt=\"Information.\" src=\"data:image/svg+xml;base64,PD94bWwgdmVyc2lvbj0iMS4wIiBlbmNvZGluZz0iVVRGLTgiPz4KPHN2ZyB3aWR0aD0iMjAiIGhlaWdodD0iMjAiIHZpZXdCb3g9IjAgMCAyMCAyMCIgZmlsbD0ibm9uZSIgeG1sbnM9Imh0dHA6Ly93d3cudzMub3JnLzIwMDAvc3ZnIj4KPHBhdGggZD0iTTEwIDBDNC40ODYgMCAwIDQuNDg2IDAgMTBDMCAxNS41MTQgNC40ODYgMjAgMTAgMjBDMTUuNTE0IDIwIDIwIDE1LjUxNCAyMCAxMEMyMCA0LjQ4NiAxNS41MTQgMCAxMCAwWk0xMCAxOC41QzUuMzEzIDE4LjUgMS41IDE0LjY4NyAxLjUgMTBDMS41IDUuMzEzIDUuMzEzIDEuNSAxMCAxLjVDMTQuNjg3IDEuNSAxOC41IDUuMzEzIDE4LjUgMTBDMTguNSAxNC42ODcgMTQuNjg3IDE4LjUgMTAgMTguNVoiIGZpbGw9IiMyMzQ0OEQiLz4KPHBhdGggZD0iTTkuNDQ5NTIgNS45MUM5LjUxOTUyIDUuOTggOS41OTk1MiA2LjAzIDkuNjg4NTIgNi4wN0M5Ljc4OTUyIDYuMTEgOS44Nzg1MiA2LjEyIDkuOTc4NTIgNi4xMkMxMC4wNzk1IDYuMTIgMTAuMTc4NSA2LjEgMTAuMjY4NSA2LjA3QzEwLjM1ODUgNi4wMyAxMC40Mzg1IDUuOTcgMTAuNTA4NSA1LjkxQzEwLjU3ODUgNS44NCAxMC42Mzg1IDUuNzUgMTAuNjY4NSA1LjY2QzEwLjcwODUgNS41NyAxMC43Mjg1IDUuNDcgMTAuNzI4NSA1LjM3QzEwLjcyODUgNS4yOCAxMC43MDg1IDUuMTggMTAuNjY4NSA1LjA5QzEwLjYzOTUgNSAxMC41Nzk1IDQuOTEgMTAuNTA5NSA0Ljg1QzEwLjQzOTUgNC43OCAxMC4zNTk1IDQuNzIgMTAuMjY5NSA0LjY4QzEwLjA4MDUgNC42MSA5Ljg3OTUyIDQuNjEgOS42ODk1MiA0LjY4QzkuNTk5NTIgNC43MiA5LjUxOTUyIDQuNzggOS40NDk1MiA0Ljg1QzkuMzA5NTIgNC45OCA5LjIyODUyIDUuMTggOS4yMjg1MiA1LjM3QzkuMjI4NTIgNS40NyA5LjI0OTUyIDUuNTcgOS4yODk1MiA1LjY2QzkuMzI5NTIgNS43NSA5LjM3OTUyIDUuODQgOS40NDk1MiA1LjkxWiIgZmlsbD0iIzIzNDQ4RCIvPgo8cGF0aCBkPSJNMTIuMTczMyAxMy4xNDVIMTAuOTc1M1Y4LjUzOTk5QzEwLjk3NTMgOC4xMjU5OSAxMC42MzkzIDcuNzg5OTkgMTAuMjI1MyA3Ljc4OTk5SDguNzY1MzRDOC4zNTEzNCA3Ljc4OTk5IDguMDE1MzQgOC4xMjU5OSA4LjAxNTM0IDguNTM5OTlDOC4wMTUzNCA4Ljk1Mzk5IDguMzUxMzQgOS4yODk5OSA4Ljc2NTM0IDkuMjg5OTlIOS40NzUzNFYxMy4xNDVIOC4yNzczNEM3Ljg2MzM0IDEzLjE0NSA3LjUyNzM0IDEzLjQ4MSA3LjUyNzM0IDEzLjg5NUM3LjUyNzM0IDE0LjMwOSA3Ljg2MzM0IDE0LjY0NSA4LjI3NzM0IDE0LjY0NUgxMi4xNzMzQzEyLjU4NzMgMTQuNjQ1IDEyLjkyMzMgMTQuMzA5IDEyLjkyMzMgMTMuODk1QzEyLjkyMzMgMTMuNDgxIDEyLjU4NzMgMTMuMTQ1IDEyLjE3MzMgMTMuMTQ1WiIgZmlsbD0iIzIzNDQ4RCIvPgo8L3N2Zz4K\"></button></div><p class=\"css-qbubgm\"> • New York</p></div></div><div class=\"css-srdy1n\"><p class=\"paragraph-module_paragraph16Regular__15DM4 css-1ug3ynx\">Please note that the results listed on this page are inclusive of Sotheby's Buyer's Premium and Overhead Premium, and exclusive of any applicable taxes and costs, unless otherwise noted.</p><p class=\"paragraph-module_paragraph14Regular__2yq4S css-yme5u0\">Please note that the results listed on this page are inclusive of Sotheby's Buyer's Premium and Overhead Premium, and exclusive of any applicable taxes and costs, unless otherwise noted.</p></div><div class=\"css-9oc5w3\"><div class=\"css-qbfgu0-buttons\"><button type=\"button\" aria-disabled=\"false\" class=\"css-1gxjtid button-module_button_large__2KRWv button-module_button__4s-13 button-module_button_secondary__ZvGrL\" aria-label=\"Save\">Save</button></div></div></div>\n",
    "    auction_elements = driver.find_elements(By.XPATH, \"//div[@class='css-17pq18']/h1\")\n",
    "    try:\n",
    "        elements = []\n",
    "        for element in auction_elements:\n",
    "            if element.text != \"\":\n",
    "                elements.append(element.text)\n",
    "        return elements[0]\n",
    "    \n",
    "    except IndexError: \n",
    "        return \"Auction Name not Found\"\n",
    " "
   ]
  },
  {
   "cell_type": "markdown",
   "metadata": {},
   "source": [
    "## Function to get Auction location"
   ]
  },
  {
   "cell_type": "code",
   "execution_count": 8,
   "metadata": {},
   "outputs": [],
   "source": [
    "def get_auction_location():\n",
    "    auction_elements = driver.find_elements(By.XPATH, \"//div[@class='css-1bnt3nz']/p\")\n",
    "    auction_element_list = []\n",
    "    for element in auction_elements:\n",
    "        auction_element_list.append(element.text)\n",
    "    try:\n",
    "        location = auction_element_list[3]\n",
    "        location = location.strip(\"• \")\n",
    "        return location\n",
    "    except IndexError: \n",
    "        return \"Location Not found\"\n"
   ]
  },
  {
   "cell_type": "markdown",
   "metadata": {},
   "source": [
    "## Function to get auction date"
   ]
  },
  {
   "cell_type": "code",
   "execution_count": 9,
   "metadata": {},
   "outputs": [],
   "source": [
    "def get_date():\n",
    "    auction_elements = driver.find_elements(By.XPATH, \"//div[@class='css-1bnt3nz']/p\")\n",
    "    auction_element_list = []\n",
    "    for element in auction_elements:\n",
    "        auction_element_list.append(element.text)\n",
    "    try:\n",
    "        date_elements = auction_element_list[2].split(\" \")\n",
    "        year = date_elements[2]\n",
    "        return year\n",
    "    \n",
    "    except IndexError: \n",
    "        return \"Date Not found\"\n"
   ]
  },
  {
   "cell_type": "markdown",
   "metadata": {},
   "source": [
    "## Extract Description Information from each lot url"
   ]
  },
  {
   "cell_type": "code",
   "execution_count": 10,
   "metadata": {},
   "outputs": [],
   "source": [
    "#Get description elements from a lot\n",
    "def get_description_elements():\n",
    "    #class = \"css-xs9w33\"\n",
    "    description_elements = driver.find_elements(By.XPATH, \"//div[@class='css-xs9w33']/p\")\n",
    "    text_elements = []\n",
    "    for element in description_elements:\n",
    "        text_elements.append(element.text)\n",
    "    return text_elements"
   ]
  },
  {
   "cell_type": "markdown",
   "metadata": {},
   "source": [
    "## Function to determine whether lot is signed or not"
   ]
  },
  {
   "cell_type": "code",
   "execution_count": 11,
   "metadata": {},
   "outputs": [],
   "source": [
    "def is_signed(description_elements):\n",
    "    is_signed = False \n",
    "    \n",
    "    for element in description_elements:\n",
    "        if (\"signed\" in element) or (\"Signed\" in element):\n",
    "            is_signed = True\n",
    "    \n",
    "    return is_signed"
   ]
  },
  {
   "cell_type": "markdown",
   "metadata": {},
   "source": [
    "## Function to get lot artist"
   ]
  },
  {
   "cell_type": "code",
   "execution_count": 12,
   "metadata": {},
   "outputs": [],
   "source": [
    "#function to get lot artist\n",
    "def get_artist():\n",
    "    try:\n",
    "        artist_elements = driver.find_elements(By.XPATH, \"//div[@class='css-5z1i8i']/h1\")\n",
    "        elements = []\n",
    "        for element in artist_elements:\n",
    "            if element.text != \"\":\n",
    "                elements.append(element.text)\n",
    "        return elements[0]\n",
    "        \n",
    "    \n",
    "    except IndexError: \n",
    "        return None"
   ]
  },
  {
   "cell_type": "markdown",
   "metadata": {},
   "source": [
    "## Function to get lot title"
   ]
  },
  {
   "cell_type": "code",
   "execution_count": 13,
   "metadata": {},
   "outputs": [],
   "source": [
    "# function to get title of a lot \n",
    "def get_title():\n",
    "    try:\n",
    "        title_elements = driver.find_elements(By.XPATH, \"//div[@class='css-5z1i8i']/p\")\n",
    "        elements = []\n",
    "        for element in title_elements:\n",
    "            if element.text != \"\":\n",
    "                elements.append(element.text)\n",
    "        return elements[0]\n",
    "    \n",
    "    except IndexError: \n",
    "        return None\n",
    " "
   ]
  },
  {
   "cell_type": "markdown",
   "metadata": {},
   "source": [
    "## Function to determine if a lot was sold"
   ]
  },
  {
   "cell_type": "code",
   "execution_count": 14,
   "metadata": {},
   "outputs": [],
   "source": [
    "#function to determine if lot was sold\n",
    "\n",
    "def was_sold():\n",
    "    try:\n",
    "        driver.find_element(By.XPATH, '//*[text()=\"Lot sold:\"]')\n",
    "    \n",
    "    except NoSuchElementException:\n",
    "        return False\n",
    "    \n",
    "    return True\n",
    "\n",
    "#driver.find_element(By.XPATH, '//*[text()=\"Impressionist/Modern\"]') != None"
   ]
  },
  {
   "cell_type": "markdown",
   "metadata": {},
   "source": [
    "## Function to extract sale information"
   ]
  },
  {
   "cell_type": "code",
   "execution_count": 15,
   "metadata": {},
   "outputs": [],
   "source": [
    "#Get sale elements from a lot\n",
    "def get_sale_price():\n",
    "    # class=\"css-11pw8p5\"\n",
    "    try:\n",
    "        sale_elements = driver.find_elements(By.XPATH, \"//div[@class='css-11pw8p5']/p\")\n",
    "        sale_elements_text = []\n",
    "        for element in sale_elements:\n",
    "            sale_elements_text.append(element.text)\n",
    "        return sale_elements_text[1] + \" \" + sale_elements_text[2]\n",
    "    \n",
    "    except IndexError: \n",
    "        return None\n",
    "    "
   ]
  },
  {
   "cell_type": "markdown",
   "metadata": {},
   "source": [
    "## Function to extract estimate information"
   ]
  },
  {
   "cell_type": "code",
   "execution_count": 16,
   "metadata": {},
   "outputs": [],
   "source": [
    "# Get estimate elements from a lot\n",
    "def get_estimate():\n",
    "    #class=\"css-10l5lxu\"\n",
    "    try:\n",
    "        estimate_elements = driver.find_elements(By.XPATH, \"//div[@class='css-10l5lxu']/p\")\n",
    "        estimate_elements_text = []\n",
    "        for element in estimate_elements:\n",
    "            if element.text != \"\":\n",
    "                estimate_elements_text.append(element.text)\n",
    "            return estimate_elements_text[1]\n",
    "    \n",
    "    except IndexError: \n",
    "        return None\n",
    "    \n"
   ]
  },
  {
   "cell_type": "markdown",
   "metadata": {},
   "source": [
    "## Function to get Image of Artwork\n"
   ]
  },
  {
   "cell_type": "code",
   "execution_count": 17,
   "metadata": {},
   "outputs": [],
   "source": [
    "#auction.get_attribute('href')\n",
    "#description_elements = driver.find_elements(By.XPATH, \"//div[@class='css-xs9w33']/p\")\n",
    "def get_image():\n",
    "    image = driver.find_element_by_class_name('css-1cbc9mk')\n",
    "    image_url = image.get_attribute('src')\n",
    "    return image_url\n"
   ]
  },
  {
   "cell_type": "markdown",
   "metadata": {},
   "source": [
    "# Implementation of Scraping Fuctions"
   ]
  },
  {
   "cell_type": "markdown",
   "metadata": {},
   "source": [
    "### 1.) Import necessary packages"
   ]
  },
  {
   "cell_type": "code",
   "execution_count": 18,
   "metadata": {},
   "outputs": [],
   "source": [
    "#Import necessary packages\n",
    "from selenium import webdriver\n",
    "from selenium.common.exceptions import NoSuchElementException\n",
    "from selenium.webdriver.support.ui import WebDriverWait\n",
    "from selenium.webdriver.common.by import By\n",
    "from selenium.webdriver.support import expected_conditions as EC\n",
    "import time\n"
   ]
  },
  {
   "cell_type": "markdown",
   "metadata": {},
   "source": [
    "### 2.) Create lists to store features of artworks"
   ]
  },
  {
   "cell_type": "code",
   "execution_count": 19,
   "metadata": {},
   "outputs": [],
   "source": [
    "# First create lists to store features of artworks\n",
    "Artist = [] #\n",
    "Title = [] #\n",
    "Signed = [] #\n",
    "Sold = [] #\n",
    "SellingPrice = [] #\n",
    "Estimate = [] #\n",
    "Image = []\n",
    "Location =[] #\n",
    "Auction_Date = [] #\n",
    "Category = []\n",
    "Auction_Name = []\n",
    "\n"
   ]
  },
  {
   "cell_type": "markdown",
   "metadata": {},
   "source": [
    "### 3.) Open driver with filter for Old Master Paintings"
   ]
  },
  {
   "cell_type": "code",
   "execution_count": 20,
   "metadata": {
    "scrolled": true
   },
   "outputs": [
    {
     "name": "stderr",
     "output_type": "stream",
     "text": [
      "/var/folders/1p/193yr6vx36ddbs_j9b08pj3r0000gn/T/ipykernel_21149/2528872836.py:2: DeprecationWarning: executable_path has been deprecated, please pass in a Service object\n",
      "  driver = webdriver.Chrome(PATH)\n"
     ]
    }
   ],
   "source": [
    "PATH = \"/Users/georgie_coetzer/Desktop/bigdata/ArtProject/chromedriver\"\n",
    "driver = webdriver.Chrome(PATH)\n",
    "driver.get(\"https://www.sothebys.com/en/results?from=&to=&f2=00000164-609a-d1db-a5e6-e9fffadc0000&f3=LIVE&q=\")"
   ]
  },
  {
   "cell_type": "markdown",
   "metadata": {},
   "source": [
    "### 4.) Scroll to bottom of page to bring all auction access buttons into view"
   ]
  },
  {
   "cell_type": "code",
   "execution_count": 21,
   "metadata": {},
   "outputs": [],
   "source": [
    "# Scroll to bottom of page to bring all auction access buttons into view\n",
    "scroll_down()"
   ]
  },
  {
   "cell_type": "markdown",
   "metadata": {},
   "source": [
    "### 5.) Obtain elements to access urls for each auction"
   ]
  },
  {
   "cell_type": "code",
   "execution_count": 22,
   "metadata": {},
   "outputs": [],
   "source": [
    "\n",
    "# maximize the window and let the code stall for 10s to properly maximize \n",
    "# the window\n",
    "driver.maximize_window()\n",
    "time.sleep(10)\n",
    "\n",
    "# Obtain links to past auctions by link text and click.\n",
    "view_results_auctions = driver.find_elements(by=By.LINK_TEXT, value=\"VIEW RESULTS\")\n",
    "\n",
    "# Obtain links to past auctions with different label\n",
    "view_auction_auctions = driver.find_elements(by=By.LINK_TEXT, value=\"VIEW AUCTION\")\n",
    "\n",
    "# Obtain links to auctions with \"VIEW WORKS LABEL\"\n",
    "view_works_auctions = driver.find_elements(by=By.LINK_TEXT, value=\"VIEW WORKS\")"
   ]
  },
  {
   "cell_type": "markdown",
   "metadata": {},
   "source": [
    "### 6.) Get a list of Auction urls"
   ]
  },
  {
   "cell_type": "code",
   "execution_count": 23,
   "metadata": {},
   "outputs": [],
   "source": [
    "auction_urls = []\n",
    "# Create a list of urls from auctions\n",
    "for auction in view_results_auctions:\n",
    "    auction_urls.append(auction.get_attribute('href'))\n",
    "    \n",
    "for auction in view_auction_auctions:\n",
    "    auction_urls.append(auction.get_attribute('href'))\n",
    "\n",
    "for auction in view_works_auctions:\n",
    "    auction_urls.append(auction.get_attribute('href'))\n",
    "    \n"
   ]
  },
  {
   "cell_type": "markdown",
   "metadata": {},
   "source": [
    "### 7.) Open a new window to iterate through auction urls"
   ]
  },
  {
   "cell_type": "code",
   "execution_count": 24,
   "metadata": {},
   "outputs": [],
   "source": [
    "open_window()\n"
   ]
  },
  {
   "cell_type": "code",
   "execution_count": 25,
   "metadata": {
    "scrolled": true
   },
   "outputs": [
    {
     "name": "stderr",
     "output_type": "stream",
     "text": [
      "/var/folders/1p/193yr6vx36ddbs_j9b08pj3r0000gn/T/ipykernel_21149/3335705237.py:3: DeprecationWarning: find_elements_by_class_name is deprecated. Please use find_elements(by=By.CLASS_NAME, value=name) instead\n",
      "  lots = driver.find_elements_by_class_name(\"css-ytumd6\")\n",
      "/var/folders/1p/193yr6vx36ddbs_j9b08pj3r0000gn/T/ipykernel_21149/3072156237.py:4: DeprecationWarning: find_element_by_class_name is deprecated. Please use find_element(by=By.CLASS_NAME, value=name) instead\n",
      "  image = driver.find_element_by_class_name('css-1cbc9mk')\n"
     ]
    },
    {
     "ename": "KeyboardInterrupt",
     "evalue": "",
     "output_type": "error",
     "traceback": [
      "\u001b[0;31m---------------------------------------------------------------------------\u001b[0m",
      "\u001b[0;31mKeyboardInterrupt\u001b[0m                         Traceback (most recent call last)",
      "\u001b[0;32m/var/folders/1p/193yr6vx36ddbs_j9b08pj3r0000gn/T/ipykernel_21149/3211673327.py\u001b[0m in \u001b[0;36m<module>\u001b[0;34m\u001b[0m\n\u001b[1;32m     24\u001b[0m     \u001b[0mdriver\u001b[0m\u001b[0;34m.\u001b[0m\u001b[0mswitch_to\u001b[0m\u001b[0;34m.\u001b[0m\u001b[0mwindow\u001b[0m\u001b[0;34m(\u001b[0m\u001b[0mdriver\u001b[0m\u001b[0;34m.\u001b[0m\u001b[0mwindow_handles\u001b[0m\u001b[0;34m[\u001b[0m\u001b[0;36m2\u001b[0m\u001b[0;34m]\u001b[0m\u001b[0;34m)\u001b[0m\u001b[0;34m\u001b[0m\u001b[0;34m\u001b[0m\u001b[0m\n\u001b[1;32m     25\u001b[0m     \u001b[0;32mfor\u001b[0m \u001b[0mlink\u001b[0m \u001b[0;32min\u001b[0m \u001b[0mlot_links\u001b[0m\u001b[0;34m:\u001b[0m\u001b[0;34m\u001b[0m\u001b[0;34m\u001b[0m\u001b[0m\n\u001b[0;32m---> 26\u001b[0;31m         \u001b[0mdriver\u001b[0m\u001b[0;34m.\u001b[0m\u001b[0mget\u001b[0m\u001b[0;34m(\u001b[0m\u001b[0mlink\u001b[0m\u001b[0;34m)\u001b[0m\u001b[0;34m\u001b[0m\u001b[0;34m\u001b[0m\u001b[0m\n\u001b[0m\u001b[1;32m     27\u001b[0m \u001b[0;34m\u001b[0m\u001b[0m\n\u001b[1;32m     28\u001b[0m         \u001b[0;31m# Extract information from lot\u001b[0m\u001b[0;34m\u001b[0m\u001b[0;34m\u001b[0m\u001b[0m\n",
      "\u001b[0;32m/opt/anaconda3/lib/python3.9/site-packages/selenium/webdriver/remote/webdriver.py\u001b[0m in \u001b[0;36mget\u001b[0;34m(self, url)\u001b[0m\n\u001b[1;32m    435\u001b[0m         \u001b[0mLoads\u001b[0m \u001b[0ma\u001b[0m \u001b[0mweb\u001b[0m \u001b[0mpage\u001b[0m \u001b[0;32min\u001b[0m \u001b[0mthe\u001b[0m \u001b[0mcurrent\u001b[0m \u001b[0mbrowser\u001b[0m \u001b[0msession\u001b[0m\u001b[0;34m.\u001b[0m\u001b[0;34m\u001b[0m\u001b[0;34m\u001b[0m\u001b[0m\n\u001b[1;32m    436\u001b[0m         \"\"\"\n\u001b[0;32m--> 437\u001b[0;31m         \u001b[0mself\u001b[0m\u001b[0;34m.\u001b[0m\u001b[0mexecute\u001b[0m\u001b[0;34m(\u001b[0m\u001b[0mCommand\u001b[0m\u001b[0;34m.\u001b[0m\u001b[0mGET\u001b[0m\u001b[0;34m,\u001b[0m \u001b[0;34m{\u001b[0m\u001b[0;34m'url'\u001b[0m\u001b[0;34m:\u001b[0m \u001b[0murl\u001b[0m\u001b[0;34m}\u001b[0m\u001b[0;34m)\u001b[0m\u001b[0;34m\u001b[0m\u001b[0;34m\u001b[0m\u001b[0m\n\u001b[0m\u001b[1;32m    438\u001b[0m \u001b[0;34m\u001b[0m\u001b[0m\n\u001b[1;32m    439\u001b[0m     \u001b[0;34m@\u001b[0m\u001b[0mproperty\u001b[0m\u001b[0;34m\u001b[0m\u001b[0;34m\u001b[0m\u001b[0m\n",
      "\u001b[0;32m/opt/anaconda3/lib/python3.9/site-packages/selenium/webdriver/remote/webdriver.py\u001b[0m in \u001b[0;36mexecute\u001b[0;34m(self, driver_command, params)\u001b[0m\n\u001b[1;32m    421\u001b[0m \u001b[0;34m\u001b[0m\u001b[0m\n\u001b[1;32m    422\u001b[0m         \u001b[0mparams\u001b[0m \u001b[0;34m=\u001b[0m \u001b[0mself\u001b[0m\u001b[0;34m.\u001b[0m\u001b[0m_wrap_value\u001b[0m\u001b[0;34m(\u001b[0m\u001b[0mparams\u001b[0m\u001b[0;34m)\u001b[0m\u001b[0;34m\u001b[0m\u001b[0;34m\u001b[0m\u001b[0m\n\u001b[0;32m--> 423\u001b[0;31m         \u001b[0mresponse\u001b[0m \u001b[0;34m=\u001b[0m \u001b[0mself\u001b[0m\u001b[0;34m.\u001b[0m\u001b[0mcommand_executor\u001b[0m\u001b[0;34m.\u001b[0m\u001b[0mexecute\u001b[0m\u001b[0;34m(\u001b[0m\u001b[0mdriver_command\u001b[0m\u001b[0;34m,\u001b[0m \u001b[0mparams\u001b[0m\u001b[0;34m)\u001b[0m\u001b[0;34m\u001b[0m\u001b[0;34m\u001b[0m\u001b[0m\n\u001b[0m\u001b[1;32m    424\u001b[0m         \u001b[0;32mif\u001b[0m \u001b[0mresponse\u001b[0m\u001b[0;34m:\u001b[0m\u001b[0;34m\u001b[0m\u001b[0;34m\u001b[0m\u001b[0m\n\u001b[1;32m    425\u001b[0m             \u001b[0mself\u001b[0m\u001b[0;34m.\u001b[0m\u001b[0merror_handler\u001b[0m\u001b[0;34m.\u001b[0m\u001b[0mcheck_response\u001b[0m\u001b[0;34m(\u001b[0m\u001b[0mresponse\u001b[0m\u001b[0;34m)\u001b[0m\u001b[0;34m\u001b[0m\u001b[0;34m\u001b[0m\u001b[0m\n",
      "\u001b[0;32m/opt/anaconda3/lib/python3.9/site-packages/selenium/webdriver/remote/remote_connection.py\u001b[0m in \u001b[0;36mexecute\u001b[0;34m(self, command, params)\u001b[0m\n\u001b[1;32m    331\u001b[0m         \u001b[0mdata\u001b[0m \u001b[0;34m=\u001b[0m \u001b[0mutils\u001b[0m\u001b[0;34m.\u001b[0m\u001b[0mdump_json\u001b[0m\u001b[0;34m(\u001b[0m\u001b[0mparams\u001b[0m\u001b[0;34m)\u001b[0m\u001b[0;34m\u001b[0m\u001b[0;34m\u001b[0m\u001b[0m\n\u001b[1;32m    332\u001b[0m         \u001b[0murl\u001b[0m \u001b[0;34m=\u001b[0m \u001b[0;34mf\"{self._url}{path}\"\u001b[0m\u001b[0;34m\u001b[0m\u001b[0;34m\u001b[0m\u001b[0m\n\u001b[0;32m--> 333\u001b[0;31m         \u001b[0;32mreturn\u001b[0m \u001b[0mself\u001b[0m\u001b[0;34m.\u001b[0m\u001b[0m_request\u001b[0m\u001b[0;34m(\u001b[0m\u001b[0mcommand_info\u001b[0m\u001b[0;34m[\u001b[0m\u001b[0;36m0\u001b[0m\u001b[0;34m]\u001b[0m\u001b[0;34m,\u001b[0m \u001b[0murl\u001b[0m\u001b[0;34m,\u001b[0m \u001b[0mbody\u001b[0m\u001b[0;34m=\u001b[0m\u001b[0mdata\u001b[0m\u001b[0;34m)\u001b[0m\u001b[0;34m\u001b[0m\u001b[0;34m\u001b[0m\u001b[0m\n\u001b[0m\u001b[1;32m    334\u001b[0m \u001b[0;34m\u001b[0m\u001b[0m\n\u001b[1;32m    335\u001b[0m     \u001b[0;32mdef\u001b[0m \u001b[0m_request\u001b[0m\u001b[0;34m(\u001b[0m\u001b[0mself\u001b[0m\u001b[0;34m,\u001b[0m \u001b[0mmethod\u001b[0m\u001b[0;34m,\u001b[0m \u001b[0murl\u001b[0m\u001b[0;34m,\u001b[0m \u001b[0mbody\u001b[0m\u001b[0;34m=\u001b[0m\u001b[0;32mNone\u001b[0m\u001b[0;34m)\u001b[0m\u001b[0;34m:\u001b[0m\u001b[0;34m\u001b[0m\u001b[0;34m\u001b[0m\u001b[0m\n",
      "\u001b[0;32m/opt/anaconda3/lib/python3.9/site-packages/selenium/webdriver/remote/remote_connection.py\u001b[0m in \u001b[0;36m_request\u001b[0;34m(self, method, url, body)\u001b[0m\n\u001b[1;32m    353\u001b[0m \u001b[0;34m\u001b[0m\u001b[0m\n\u001b[1;32m    354\u001b[0m         \u001b[0;32mif\u001b[0m \u001b[0mself\u001b[0m\u001b[0;34m.\u001b[0m\u001b[0mkeep_alive\u001b[0m\u001b[0;34m:\u001b[0m\u001b[0;34m\u001b[0m\u001b[0;34m\u001b[0m\u001b[0m\n\u001b[0;32m--> 355\u001b[0;31m             \u001b[0mresp\u001b[0m \u001b[0;34m=\u001b[0m \u001b[0mself\u001b[0m\u001b[0;34m.\u001b[0m\u001b[0m_conn\u001b[0m\u001b[0;34m.\u001b[0m\u001b[0mrequest\u001b[0m\u001b[0;34m(\u001b[0m\u001b[0mmethod\u001b[0m\u001b[0;34m,\u001b[0m \u001b[0murl\u001b[0m\u001b[0;34m,\u001b[0m \u001b[0mbody\u001b[0m\u001b[0;34m=\u001b[0m\u001b[0mbody\u001b[0m\u001b[0;34m,\u001b[0m \u001b[0mheaders\u001b[0m\u001b[0;34m=\u001b[0m\u001b[0mheaders\u001b[0m\u001b[0;34m)\u001b[0m\u001b[0;34m\u001b[0m\u001b[0;34m\u001b[0m\u001b[0m\n\u001b[0m\u001b[1;32m    356\u001b[0m             \u001b[0mstatuscode\u001b[0m \u001b[0;34m=\u001b[0m \u001b[0mresp\u001b[0m\u001b[0;34m.\u001b[0m\u001b[0mstatus\u001b[0m\u001b[0;34m\u001b[0m\u001b[0;34m\u001b[0m\u001b[0m\n\u001b[1;32m    357\u001b[0m         \u001b[0;32melse\u001b[0m\u001b[0;34m:\u001b[0m\u001b[0;34m\u001b[0m\u001b[0;34m\u001b[0m\u001b[0m\n",
      "\u001b[0;32m/opt/anaconda3/lib/python3.9/site-packages/urllib3/request.py\u001b[0m in \u001b[0;36mrequest\u001b[0;34m(self, method, url, fields, headers, **urlopen_kw)\u001b[0m\n\u001b[1;32m     76\u001b[0m             )\n\u001b[1;32m     77\u001b[0m         \u001b[0;32melse\u001b[0m\u001b[0;34m:\u001b[0m\u001b[0;34m\u001b[0m\u001b[0;34m\u001b[0m\u001b[0m\n\u001b[0;32m---> 78\u001b[0;31m             return self.request_encode_body(\n\u001b[0m\u001b[1;32m     79\u001b[0m                 \u001b[0mmethod\u001b[0m\u001b[0;34m,\u001b[0m \u001b[0murl\u001b[0m\u001b[0;34m,\u001b[0m \u001b[0mfields\u001b[0m\u001b[0;34m=\u001b[0m\u001b[0mfields\u001b[0m\u001b[0;34m,\u001b[0m \u001b[0mheaders\u001b[0m\u001b[0;34m=\u001b[0m\u001b[0mheaders\u001b[0m\u001b[0;34m,\u001b[0m \u001b[0;34m**\u001b[0m\u001b[0murlopen_kw\u001b[0m\u001b[0;34m\u001b[0m\u001b[0;34m\u001b[0m\u001b[0m\n\u001b[1;32m     80\u001b[0m             )\n",
      "\u001b[0;32m/opt/anaconda3/lib/python3.9/site-packages/urllib3/request.py\u001b[0m in \u001b[0;36mrequest_encode_body\u001b[0;34m(self, method, url, fields, headers, encode_multipart, multipart_boundary, **urlopen_kw)\u001b[0m\n\u001b[1;32m    168\u001b[0m         \u001b[0mextra_kw\u001b[0m\u001b[0;34m.\u001b[0m\u001b[0mupdate\u001b[0m\u001b[0;34m(\u001b[0m\u001b[0murlopen_kw\u001b[0m\u001b[0;34m)\u001b[0m\u001b[0;34m\u001b[0m\u001b[0;34m\u001b[0m\u001b[0m\n\u001b[1;32m    169\u001b[0m \u001b[0;34m\u001b[0m\u001b[0m\n\u001b[0;32m--> 170\u001b[0;31m         \u001b[0;32mreturn\u001b[0m \u001b[0mself\u001b[0m\u001b[0;34m.\u001b[0m\u001b[0murlopen\u001b[0m\u001b[0;34m(\u001b[0m\u001b[0mmethod\u001b[0m\u001b[0;34m,\u001b[0m \u001b[0murl\u001b[0m\u001b[0;34m,\u001b[0m \u001b[0;34m**\u001b[0m\u001b[0mextra_kw\u001b[0m\u001b[0;34m)\u001b[0m\u001b[0;34m\u001b[0m\u001b[0;34m\u001b[0m\u001b[0m\n\u001b[0m",
      "\u001b[0;32m/opt/anaconda3/lib/python3.9/site-packages/urllib3/poolmanager.py\u001b[0m in \u001b[0;36murlopen\u001b[0;34m(self, method, url, redirect, **kw)\u001b[0m\n\u001b[1;32m    373\u001b[0m             \u001b[0mresponse\u001b[0m \u001b[0;34m=\u001b[0m \u001b[0mconn\u001b[0m\u001b[0;34m.\u001b[0m\u001b[0murlopen\u001b[0m\u001b[0;34m(\u001b[0m\u001b[0mmethod\u001b[0m\u001b[0;34m,\u001b[0m \u001b[0murl\u001b[0m\u001b[0;34m,\u001b[0m \u001b[0;34m**\u001b[0m\u001b[0mkw\u001b[0m\u001b[0;34m)\u001b[0m\u001b[0;34m\u001b[0m\u001b[0;34m\u001b[0m\u001b[0m\n\u001b[1;32m    374\u001b[0m         \u001b[0;32melse\u001b[0m\u001b[0;34m:\u001b[0m\u001b[0;34m\u001b[0m\u001b[0;34m\u001b[0m\u001b[0m\n\u001b[0;32m--> 375\u001b[0;31m             \u001b[0mresponse\u001b[0m \u001b[0;34m=\u001b[0m \u001b[0mconn\u001b[0m\u001b[0;34m.\u001b[0m\u001b[0murlopen\u001b[0m\u001b[0;34m(\u001b[0m\u001b[0mmethod\u001b[0m\u001b[0;34m,\u001b[0m \u001b[0mu\u001b[0m\u001b[0;34m.\u001b[0m\u001b[0mrequest_uri\u001b[0m\u001b[0;34m,\u001b[0m \u001b[0;34m**\u001b[0m\u001b[0mkw\u001b[0m\u001b[0;34m)\u001b[0m\u001b[0;34m\u001b[0m\u001b[0;34m\u001b[0m\u001b[0m\n\u001b[0m\u001b[1;32m    376\u001b[0m \u001b[0;34m\u001b[0m\u001b[0m\n\u001b[1;32m    377\u001b[0m         \u001b[0mredirect_location\u001b[0m \u001b[0;34m=\u001b[0m \u001b[0mredirect\u001b[0m \u001b[0;32mand\u001b[0m \u001b[0mresponse\u001b[0m\u001b[0;34m.\u001b[0m\u001b[0mget_redirect_location\u001b[0m\u001b[0;34m(\u001b[0m\u001b[0;34m)\u001b[0m\u001b[0;34m\u001b[0m\u001b[0;34m\u001b[0m\u001b[0m\n",
      "\u001b[0;32m/opt/anaconda3/lib/python3.9/site-packages/urllib3/connectionpool.py\u001b[0m in \u001b[0;36murlopen\u001b[0;34m(self, method, url, body, headers, retries, redirect, assert_same_host, timeout, pool_timeout, release_conn, chunked, body_pos, **response_kw)\u001b[0m\n\u001b[1;32m    697\u001b[0m \u001b[0;34m\u001b[0m\u001b[0m\n\u001b[1;32m    698\u001b[0m             \u001b[0;31m# Make the request on the httplib connection object.\u001b[0m\u001b[0;34m\u001b[0m\u001b[0;34m\u001b[0m\u001b[0m\n\u001b[0;32m--> 699\u001b[0;31m             httplib_response = self._make_request(\n\u001b[0m\u001b[1;32m    700\u001b[0m                 \u001b[0mconn\u001b[0m\u001b[0;34m,\u001b[0m\u001b[0;34m\u001b[0m\u001b[0;34m\u001b[0m\u001b[0m\n\u001b[1;32m    701\u001b[0m                 \u001b[0mmethod\u001b[0m\u001b[0;34m,\u001b[0m\u001b[0;34m\u001b[0m\u001b[0;34m\u001b[0m\u001b[0m\n",
      "\u001b[0;32m/opt/anaconda3/lib/python3.9/site-packages/urllib3/connectionpool.py\u001b[0m in \u001b[0;36m_make_request\u001b[0;34m(self, conn, method, url, timeout, chunked, **httplib_request_kw)\u001b[0m\n\u001b[1;32m    443\u001b[0m                     \u001b[0;31m# Python 3 (including for exceptions like SystemExit).\u001b[0m\u001b[0;34m\u001b[0m\u001b[0;34m\u001b[0m\u001b[0m\n\u001b[1;32m    444\u001b[0m                     \u001b[0;31m# Otherwise it looks like a bug in the code.\u001b[0m\u001b[0;34m\u001b[0m\u001b[0;34m\u001b[0m\u001b[0m\n\u001b[0;32m--> 445\u001b[0;31m                     \u001b[0msix\u001b[0m\u001b[0;34m.\u001b[0m\u001b[0mraise_from\u001b[0m\u001b[0;34m(\u001b[0m\u001b[0me\u001b[0m\u001b[0;34m,\u001b[0m \u001b[0;32mNone\u001b[0m\u001b[0;34m)\u001b[0m\u001b[0;34m\u001b[0m\u001b[0;34m\u001b[0m\u001b[0m\n\u001b[0m\u001b[1;32m    446\u001b[0m         \u001b[0;32mexcept\u001b[0m \u001b[0;34m(\u001b[0m\u001b[0mSocketTimeout\u001b[0m\u001b[0;34m,\u001b[0m \u001b[0mBaseSSLError\u001b[0m\u001b[0;34m,\u001b[0m \u001b[0mSocketError\u001b[0m\u001b[0;34m)\u001b[0m \u001b[0;32mas\u001b[0m \u001b[0me\u001b[0m\u001b[0;34m:\u001b[0m\u001b[0;34m\u001b[0m\u001b[0;34m\u001b[0m\u001b[0m\n\u001b[1;32m    447\u001b[0m             \u001b[0mself\u001b[0m\u001b[0;34m.\u001b[0m\u001b[0m_raise_timeout\u001b[0m\u001b[0;34m(\u001b[0m\u001b[0merr\u001b[0m\u001b[0;34m=\u001b[0m\u001b[0me\u001b[0m\u001b[0;34m,\u001b[0m \u001b[0murl\u001b[0m\u001b[0;34m=\u001b[0m\u001b[0murl\u001b[0m\u001b[0;34m,\u001b[0m \u001b[0mtimeout_value\u001b[0m\u001b[0;34m=\u001b[0m\u001b[0mread_timeout\u001b[0m\u001b[0;34m)\u001b[0m\u001b[0;34m\u001b[0m\u001b[0;34m\u001b[0m\u001b[0m\n",
      "\u001b[0;32m/opt/anaconda3/lib/python3.9/site-packages/urllib3/packages/six.py\u001b[0m in \u001b[0;36mraise_from\u001b[0;34m(value, from_value)\u001b[0m\n",
      "\u001b[0;32m/opt/anaconda3/lib/python3.9/site-packages/urllib3/connectionpool.py\u001b[0m in \u001b[0;36m_make_request\u001b[0;34m(self, conn, method, url, timeout, chunked, **httplib_request_kw)\u001b[0m\n\u001b[1;32m    438\u001b[0m                 \u001b[0;31m# Python 3\u001b[0m\u001b[0;34m\u001b[0m\u001b[0;34m\u001b[0m\u001b[0m\n\u001b[1;32m    439\u001b[0m                 \u001b[0;32mtry\u001b[0m\u001b[0;34m:\u001b[0m\u001b[0;34m\u001b[0m\u001b[0;34m\u001b[0m\u001b[0m\n\u001b[0;32m--> 440\u001b[0;31m                     \u001b[0mhttplib_response\u001b[0m \u001b[0;34m=\u001b[0m \u001b[0mconn\u001b[0m\u001b[0;34m.\u001b[0m\u001b[0mgetresponse\u001b[0m\u001b[0;34m(\u001b[0m\u001b[0;34m)\u001b[0m\u001b[0;34m\u001b[0m\u001b[0;34m\u001b[0m\u001b[0m\n\u001b[0m\u001b[1;32m    441\u001b[0m                 \u001b[0;32mexcept\u001b[0m \u001b[0mBaseException\u001b[0m \u001b[0;32mas\u001b[0m \u001b[0me\u001b[0m\u001b[0;34m:\u001b[0m\u001b[0;34m\u001b[0m\u001b[0;34m\u001b[0m\u001b[0m\n\u001b[1;32m    442\u001b[0m                     \u001b[0;31m# Remove the TypeError from the exception chain in\u001b[0m\u001b[0;34m\u001b[0m\u001b[0;34m\u001b[0m\u001b[0m\n",
      "\u001b[0;32m/opt/anaconda3/lib/python3.9/http/client.py\u001b[0m in \u001b[0;36mgetresponse\u001b[0;34m(self)\u001b[0m\n\u001b[1;32m   1369\u001b[0m         \u001b[0;32mtry\u001b[0m\u001b[0;34m:\u001b[0m\u001b[0;34m\u001b[0m\u001b[0;34m\u001b[0m\u001b[0m\n\u001b[1;32m   1370\u001b[0m             \u001b[0;32mtry\u001b[0m\u001b[0;34m:\u001b[0m\u001b[0;34m\u001b[0m\u001b[0;34m\u001b[0m\u001b[0m\n\u001b[0;32m-> 1371\u001b[0;31m                 \u001b[0mresponse\u001b[0m\u001b[0;34m.\u001b[0m\u001b[0mbegin\u001b[0m\u001b[0;34m(\u001b[0m\u001b[0;34m)\u001b[0m\u001b[0;34m\u001b[0m\u001b[0;34m\u001b[0m\u001b[0m\n\u001b[0m\u001b[1;32m   1372\u001b[0m             \u001b[0;32mexcept\u001b[0m \u001b[0mConnectionError\u001b[0m\u001b[0;34m:\u001b[0m\u001b[0;34m\u001b[0m\u001b[0;34m\u001b[0m\u001b[0m\n\u001b[1;32m   1373\u001b[0m                 \u001b[0mself\u001b[0m\u001b[0;34m.\u001b[0m\u001b[0mclose\u001b[0m\u001b[0;34m(\u001b[0m\u001b[0;34m)\u001b[0m\u001b[0;34m\u001b[0m\u001b[0;34m\u001b[0m\u001b[0m\n",
      "\u001b[0;32m/opt/anaconda3/lib/python3.9/http/client.py\u001b[0m in \u001b[0;36mbegin\u001b[0;34m(self)\u001b[0m\n\u001b[1;32m    317\u001b[0m         \u001b[0;31m# read until we get a non-100 response\u001b[0m\u001b[0;34m\u001b[0m\u001b[0;34m\u001b[0m\u001b[0m\n\u001b[1;32m    318\u001b[0m         \u001b[0;32mwhile\u001b[0m \u001b[0;32mTrue\u001b[0m\u001b[0;34m:\u001b[0m\u001b[0;34m\u001b[0m\u001b[0;34m\u001b[0m\u001b[0m\n\u001b[0;32m--> 319\u001b[0;31m             \u001b[0mversion\u001b[0m\u001b[0;34m,\u001b[0m \u001b[0mstatus\u001b[0m\u001b[0;34m,\u001b[0m \u001b[0mreason\u001b[0m \u001b[0;34m=\u001b[0m \u001b[0mself\u001b[0m\u001b[0;34m.\u001b[0m\u001b[0m_read_status\u001b[0m\u001b[0;34m(\u001b[0m\u001b[0;34m)\u001b[0m\u001b[0;34m\u001b[0m\u001b[0;34m\u001b[0m\u001b[0m\n\u001b[0m\u001b[1;32m    320\u001b[0m             \u001b[0;32mif\u001b[0m \u001b[0mstatus\u001b[0m \u001b[0;34m!=\u001b[0m \u001b[0mCONTINUE\u001b[0m\u001b[0;34m:\u001b[0m\u001b[0;34m\u001b[0m\u001b[0;34m\u001b[0m\u001b[0m\n\u001b[1;32m    321\u001b[0m                 \u001b[0;32mbreak\u001b[0m\u001b[0;34m\u001b[0m\u001b[0;34m\u001b[0m\u001b[0m\n",
      "\u001b[0;32m/opt/anaconda3/lib/python3.9/http/client.py\u001b[0m in \u001b[0;36m_read_status\u001b[0;34m(self)\u001b[0m\n\u001b[1;32m    278\u001b[0m \u001b[0;34m\u001b[0m\u001b[0m\n\u001b[1;32m    279\u001b[0m     \u001b[0;32mdef\u001b[0m \u001b[0m_read_status\u001b[0m\u001b[0;34m(\u001b[0m\u001b[0mself\u001b[0m\u001b[0;34m)\u001b[0m\u001b[0;34m:\u001b[0m\u001b[0;34m\u001b[0m\u001b[0;34m\u001b[0m\u001b[0m\n\u001b[0;32m--> 280\u001b[0;31m         \u001b[0mline\u001b[0m \u001b[0;34m=\u001b[0m \u001b[0mstr\u001b[0m\u001b[0;34m(\u001b[0m\u001b[0mself\u001b[0m\u001b[0;34m.\u001b[0m\u001b[0mfp\u001b[0m\u001b[0;34m.\u001b[0m\u001b[0mreadline\u001b[0m\u001b[0;34m(\u001b[0m\u001b[0m_MAXLINE\u001b[0m \u001b[0;34m+\u001b[0m \u001b[0;36m1\u001b[0m\u001b[0;34m)\u001b[0m\u001b[0;34m,\u001b[0m \u001b[0;34m\"iso-8859-1\"\u001b[0m\u001b[0;34m)\u001b[0m\u001b[0;34m\u001b[0m\u001b[0;34m\u001b[0m\u001b[0m\n\u001b[0m\u001b[1;32m    281\u001b[0m         \u001b[0;32mif\u001b[0m \u001b[0mlen\u001b[0m\u001b[0;34m(\u001b[0m\u001b[0mline\u001b[0m\u001b[0;34m)\u001b[0m \u001b[0;34m>\u001b[0m \u001b[0m_MAXLINE\u001b[0m\u001b[0;34m:\u001b[0m\u001b[0;34m\u001b[0m\u001b[0;34m\u001b[0m\u001b[0m\n\u001b[1;32m    282\u001b[0m             \u001b[0;32mraise\u001b[0m \u001b[0mLineTooLong\u001b[0m\u001b[0;34m(\u001b[0m\u001b[0;34m\"status line\"\u001b[0m\u001b[0;34m)\u001b[0m\u001b[0;34m\u001b[0m\u001b[0;34m\u001b[0m\u001b[0m\n",
      "\u001b[0;32m/opt/anaconda3/lib/python3.9/socket.py\u001b[0m in \u001b[0;36mreadinto\u001b[0;34m(self, b)\u001b[0m\n\u001b[1;32m    702\u001b[0m         \u001b[0;32mwhile\u001b[0m \u001b[0;32mTrue\u001b[0m\u001b[0;34m:\u001b[0m\u001b[0;34m\u001b[0m\u001b[0;34m\u001b[0m\u001b[0m\n\u001b[1;32m    703\u001b[0m             \u001b[0;32mtry\u001b[0m\u001b[0;34m:\u001b[0m\u001b[0;34m\u001b[0m\u001b[0;34m\u001b[0m\u001b[0m\n\u001b[0;32m--> 704\u001b[0;31m                 \u001b[0;32mreturn\u001b[0m \u001b[0mself\u001b[0m\u001b[0;34m.\u001b[0m\u001b[0m_sock\u001b[0m\u001b[0;34m.\u001b[0m\u001b[0mrecv_into\u001b[0m\u001b[0;34m(\u001b[0m\u001b[0mb\u001b[0m\u001b[0;34m)\u001b[0m\u001b[0;34m\u001b[0m\u001b[0;34m\u001b[0m\u001b[0m\n\u001b[0m\u001b[1;32m    705\u001b[0m             \u001b[0;32mexcept\u001b[0m \u001b[0mtimeout\u001b[0m\u001b[0;34m:\u001b[0m\u001b[0;34m\u001b[0m\u001b[0;34m\u001b[0m\u001b[0m\n\u001b[1;32m    706\u001b[0m                 \u001b[0mself\u001b[0m\u001b[0;34m.\u001b[0m\u001b[0m_timeout_occurred\u001b[0m \u001b[0;34m=\u001b[0m \u001b[0;32mTrue\u001b[0m\u001b[0;34m\u001b[0m\u001b[0;34m\u001b[0m\u001b[0m\n",
      "\u001b[0;31mKeyboardInterrupt\u001b[0m: "
     ]
    }
   ],
   "source": [
    "\n",
    "for url in auction_urls:\n",
    "    driver.get(url)\n",
    "    time.sleep(3)\n",
    "    driver.maximize_window()\n",
    "    auction_location = get_auction_location()\n",
    "    date = get_date()\n",
    "    auction_name = get_auction_name()\n",
    "\n",
    "    \n",
    "    #apply auction filters so we only get artworks relevant to our project\n",
    "    apply_auction_filters_om(url)\n",
    "        \n",
    "    \n",
    "    #Scroll to bottom of page to bring all auction lots into view\n",
    "    scroll_down()\n",
    "    \n",
    "    #extract a list of links(urls) for lots in the auction\n",
    "    lot_links = extract_lot_links()\n",
    "       \n",
    "    #open and switch to a new window for lots\n",
    "    #open a new window\n",
    "    driver.execute_script(\"window.open('');\")\n",
    "    #switch to new window\n",
    "    driver.switch_to.window(driver.window_handles[2])\n",
    "    for link in lot_links:\n",
    "        driver.get(link)\n",
    "        \n",
    "        # Extract information from lot \n",
    "        artist = get_artist()\n",
    "        Artist.append(artist)\n",
    "        title = get_title()\n",
    "        Title.append(title)\n",
    "\n",
    "        Location.append(auction_location)\n",
    "        Auction_Name.append(auction_name)\n",
    "        Auction_Date.append(date)\n",
    "\n",
    "        \n",
    "        description_elements = get_description_elements()\n",
    "        \n",
    "        Signed.append(is_signed(description_elements))\n",
    "        \n",
    "        #get sale information\n",
    "        if (was_sold()):\n",
    "            Sold.append(True)\n",
    "            sale_information = get_sale_price()\n",
    "            SellingPrice.append(sale_information)\n",
    "        \n",
    "        else:\n",
    "            Sold.append(False)\n",
    "            SellingPrice.append(\"N/A\")\n",
    "      \n",
    "        estimate = get_estimate()\n",
    "        Estimate.append(estimate)\n",
    "\n",
    "        #Get image\n",
    "        image = get_image()\n",
    "        Image.append(image)    \n",
    " \n",
    "        Category.append(\"Old Masters\")\n",
    "   \n",
    "        \n",
    "        \n",
    "    driver.close()\n",
    "    driver.switch_to.window(driver.window_handles[1])\n",
    "\n",
    "driver.close()\n",
    "driver.switch_to.window(driver.window_handles[0])\n"
   ]
  },
  {
   "cell_type": "markdown",
   "metadata": {},
   "source": [
    "## Re-ran code after encountering a issue on remaining masters auction links "
   ]
  },
  {
   "cell_type": "code",
   "execution_count": null,
   "metadata": {},
   "outputs": [],
   "source": [
    "PATH = \"/Users/georgie_coetzer/Desktop/bigdata/ArtProject/chromedriver\"\n",
    "driver = webdriver.Chrome(PATH)\n",
    "driver.get(\"https://www.sothebys.com/en/results?from=&to=&f2=00000164-609a-d1db-a5e6-e9fffadc0000&f3=LIVE&q=\")"
   ]
  },
  {
   "cell_type": "code",
   "execution_count": null,
   "metadata": {},
   "outputs": [],
   "source": [
    "open_window()"
   ]
  },
  {
   "cell_type": "code",
   "execution_count": null,
   "metadata": {},
   "outputs": [],
   "source": [
    "\n",
    "for url in auction_urls[34:]:\n",
    "    driver.get(url)\n",
    "    time.sleep(3)\n",
    "    driver.maximize_window()\n",
    "    auction_location = get_auction_location()\n",
    "    date = get_date()\n",
    "    auction_name = get_auction_name()\n",
    "\n",
    "    \n",
    "    #apply auction filters so we only get artworks relevant to our project\n",
    "    apply_auction_filters_om(url)\n",
    "        \n",
    "    \n",
    "    #Scroll to bottom of page to bring all auction lots into view\n",
    "    scroll_down()\n",
    "    \n",
    "    #extract a list of links(urls) for lots in the auction\n",
    "    lot_links = extract_lot_links()\n",
    "       \n",
    "    #open and switch to a new window for lots\n",
    "    #open a new window\n",
    "    driver.execute_script(\"window.open('');\")\n",
    "    #switch to new window\n",
    "    driver.switch_to.window(driver.window_handles[2])\n",
    "    for link in lot_links:\n",
    "        driver.get(link)\n",
    "        \n",
    "        # Extract information from lot \n",
    "        artist = get_artist()\n",
    "        Artist.append(artist)\n",
    "        title = get_title()\n",
    "        Title.append(title)\n",
    "\n",
    "        Location.append(auction_location)\n",
    "        Auction_Name.append(auction_name)\n",
    "        Auction_Date.append(date)\n",
    "\n",
    "        \n",
    "        description_elements = get_description_elements()\n",
    "        \n",
    "        Signed.append(is_signed(description_elements))\n",
    "        \n",
    "        #get sale information\n",
    "        if (was_sold()):\n",
    "            Sold.append(True)\n",
    "            sale_information = get_sale_price()\n",
    "            SellingPrice.append(sale_information)\n",
    "        \n",
    "        else:\n",
    "            Sold.append(False)\n",
    "            SellingPrice.append(\"N/A\")\n",
    "      \n",
    "        estimate = get_estimate()\n",
    "        Estimate.append(estimate)\n",
    "\n",
    "        #Get image\n",
    "        image = get_image()\n",
    "        Image.append(image)    \n",
    " \n",
    "        Category.append(\"Old Masters\")\n",
    "   \n",
    "        \n",
    "        \n",
    "    driver.close()\n",
    "    driver.switch_to.window(driver.window_handles[1])\n",
    "\n",
    "driver.close()\n",
    "driver.switch_to.window(driver.window_handles[0])\n"
   ]
  },
  {
   "cell_type": "markdown",
   "metadata": {},
   "source": [
    "## Repeat steps 3 to 7 on url for Impressionist & Modern Paintings"
   ]
  },
  {
   "cell_type": "code",
   "execution_count": null,
   "metadata": {},
   "outputs": [],
   "source": [
    "driver.get(\"https://www.sothebys.com/en/results?from=&to=&f2=00000164-609b-d1db-a5e6-e9ff08ab0000&f3=LIVE&q=\")"
   ]
  },
  {
   "cell_type": "code",
   "execution_count": null,
   "metadata": {},
   "outputs": [],
   "source": [
    "# Scroll to bottom of page to bring all auction access buttons into view\n",
    "scroll_down()"
   ]
  },
  {
   "cell_type": "code",
   "execution_count": null,
   "metadata": {},
   "outputs": [],
   "source": [
    "\n",
    "# maximize the window and let the code stall for 10s to properly maximize \n",
    "# the window\n",
    "driver.maximize_window()\n",
    "time.sleep(5)\n",
    "\n",
    "# Obtain links to past auctions by link text and click.\n",
    "view_results_auctions = driver.find_elements(by=By.LINK_TEXT, value=\"VIEW RESULTS\")\n",
    "\n",
    "# Obtain links to past auctions with different label\n",
    "view_auction_auctions = driver.find_elements(by=By.LINK_TEXT, value=\"VIEW AUCTION\")\n",
    "\n",
    "# Obtain links to auctions with \"VIEW WORKS LABEL\"\n",
    "view_works_auctions = driver.find_elements(by=By.LINK_TEXT, value=\"VIEW WORKS\")"
   ]
  },
  {
   "cell_type": "code",
   "execution_count": null,
   "metadata": {},
   "outputs": [],
   "source": [
    "auction_urls = []\n",
    "# Create a list of urls from auctions\n",
    "for auction in view_results_auctions:\n",
    "    auction_urls.append(auction.get_attribute('href'))\n",
    "    \n",
    "for auction in view_auction_auctions:\n",
    "    auction_urls.append(auction.get_attribute('href'))\n",
    "\n",
    "for auction in view_works_auctions:\n",
    "    auction_urls.append(auction.get_attribute('href'))"
   ]
  },
  {
   "cell_type": "code",
   "execution_count": null,
   "metadata": {},
   "outputs": [],
   "source": [
    "open_window()"
   ]
  },
  {
   "cell_type": "code",
   "execution_count": null,
   "metadata": {},
   "outputs": [],
   "source": [
    "\n",
    "for url in auction_urls:\n",
    "    driver.get(url)\n",
    "    time.sleep(3)\n",
    "    driver.maximize_window()\n",
    "    auction_location = get_auction_location()\n",
    "    date = get_date()\n",
    "    auction_name = get_auction_name()\n",
    "\n",
    "    \n",
    "    #apply auction filters so we only get artworks relevant to our project\n",
    "    apply_auction_filters_im(url)\n",
    "        \n",
    "    \n",
    "    #Scroll to bottom of page to bring all auction lots into view\n",
    "    scroll_down()\n",
    "    \n",
    "    #extract a list of links(urls) for lots in the auction\n",
    "    lot_links = extract_lot_links()\n",
    "       \n",
    "    #open and switch to a new window for lots\n",
    "    #open a new window\n",
    "    driver.execute_script(\"window.open('');\")\n",
    "    #switch to new window\n",
    "    driver.switch_to.window(driver.window_handles[2])\n",
    "    for link in lot_links:\n",
    "        driver.get(link)\n",
    "        \n",
    "        # Extract information from lot \n",
    "        artist = get_artist()\n",
    "        Artist.append(artist)\n",
    "        title = get_title()\n",
    "        Title.append(title)\n",
    "\n",
    "        Location.append(auction_location)\n",
    "        Auction_Name.append(auction_name)\n",
    "        Auction_Date.append(date)\n",
    "\n",
    "        \n",
    "        description_elements = get_description_elements()\n",
    "        \n",
    "        Signed.append(is_signed(description_elements))\n",
    "        \n",
    "        #get sale information\n",
    "        if (was_sold()):\n",
    "            Sold.append(True)\n",
    "            sale_information = get_sale_price()\n",
    "            SellingPrice.append(sale_information)\n",
    "        \n",
    "        else:\n",
    "            Sold.append(False)\n",
    "            SellingPrice.append(\"N/A\")\n",
    "      \n",
    "        estimate = get_estimate()\n",
    "        Estimate.append(estimate)\n",
    "\n",
    "        #Get image\n",
    "        image = get_image()\n",
    "        Image.append(image)    \n",
    " \n",
    "        Category.append(\"Impressionist/Modern\")\n",
    "   \n",
    "        \n",
    "        \n",
    "    driver.close()\n",
    "    driver.switch_to.window(driver.window_handles[1])\n",
    "\n",
    "driver.close()\n",
    "driver.switch_to.window(driver.window_handles[0])\n"
   ]
  },
  {
   "cell_type": "markdown",
   "metadata": {},
   "source": [
    "## Repeat steps 3 to 7 on url for 19th Century Paintings"
   ]
  },
  {
   "cell_type": "code",
   "execution_count": null,
   "metadata": {},
   "outputs": [],
   "source": [
    "driver.get(\"https://www.sothebys.com/en/results?from=&to=&f2=00000164-609a-d1db-a5e6-e9fff79f0000&f3=LIVE&q=\")"
   ]
  },
  {
   "cell_type": "code",
   "execution_count": null,
   "metadata": {},
   "outputs": [],
   "source": [
    "# Scroll to bottom of page to bring all auction access buttons into view\n",
    "scroll_down()"
   ]
  },
  {
   "cell_type": "code",
   "execution_count": null,
   "metadata": {},
   "outputs": [],
   "source": [
    "\n",
    "# maximize the window and let the code stall for 10s to properly maximize \n",
    "# the window\n",
    "driver.maximize_window()\n",
    "time.sleep(5)\n",
    "\n",
    "# Obtain links to past auctions by link text and click.\n",
    "view_results_auctions = driver.find_elements(by=By.LINK_TEXT, value=\"VIEW RESULTS\")\n",
    "\n",
    "# Obtain links to past auctions with different label\n",
    "view_auction_auctions = driver.find_elements(by=By.LINK_TEXT, value=\"VIEW AUCTION\")\n",
    "\n",
    "# Obtain links to auctions with \"VIEW WORKS LABEL\"\n",
    "view_works_auctions = driver.find_elements(by=By.LINK_TEXT, value=\"VIEW WORKS\")"
   ]
  },
  {
   "cell_type": "code",
   "execution_count": null,
   "metadata": {},
   "outputs": [],
   "source": [
    "auction_urls = []\n",
    "# Create a list of urls from auctions\n",
    "for auction in view_results_auctions:\n",
    "    auction_urls.append(auction.get_attribute('href'))\n",
    "    \n",
    "for auction in view_auction_auctions:\n",
    "    auction_urls.append(auction.get_attribute('href'))\n",
    "\n",
    "for auction in view_works_auctions:\n",
    "    auction_urls.append(auction.get_attribute('href'))"
   ]
  },
  {
   "cell_type": "code",
   "execution_count": null,
   "metadata": {},
   "outputs": [],
   "source": [
    "open_window()"
   ]
  },
  {
   "cell_type": "code",
   "execution_count": null,
   "metadata": {},
   "outputs": [],
   "source": [
    "\n",
    "for url in auction_urls:\n",
    "    driver.get(url)\n",
    "    time.sleep(3)\n",
    "    driver.maximize_window()\n",
    "    auction_location = get_auction_location()\n",
    "    date = get_date()\n",
    "    auction_name = get_auction_name()\n",
    "\n",
    "    \n",
    "    #apply auction filters so we only get artworks relevant to our project\n",
    "    apply_auction_filters_19th_cnt(url)\n",
    "        \n",
    "    \n",
    "    #Scroll to bottom of page to bring all auction lots into view\n",
    "    scroll_down()\n",
    "    \n",
    "    #extract a list of links(urls) for lots in the auction\n",
    "    lot_links = extract_lot_links()\n",
    "       \n",
    "    #open and switch to a new window for lots\n",
    "    #open a new window\n",
    "    driver.execute_script(\"window.open('');\")\n",
    "    #switch to new window\n",
    "    driver.switch_to.window(driver.window_handles[2])\n",
    "    for link in lot_links:\n",
    "        driver.get(link)\n",
    "        \n",
    "        # Extract information from lot \n",
    "        artist = get_artist()\n",
    "        Artist.append(artist)\n",
    "        title = get_title()\n",
    "        Title.append(title)\n",
    "\n",
    "        Location.append(auction_location)\n",
    "        Auction_Name.append(auction_name)\n",
    "        Auction_Date.append(date)\n",
    "\n",
    "        \n",
    "        description_elements = get_description_elements()\n",
    "        \n",
    "        Signed.append(is_signed(description_elements))\n",
    "        \n",
    "        #get sale information\n",
    "        if (was_sold()):\n",
    "            Sold.append(True)\n",
    "            sale_information = get_sale_price()\n",
    "            SellingPrice.append(sale_information)\n",
    "        \n",
    "        else:\n",
    "            Sold.append(False)\n",
    "            SellingPrice.append(\"N/A\")\n",
    "      \n",
    "        estimate = get_estimate()\n",
    "        Estimate.append(estimate)\n",
    "\n",
    "        #Get image\n",
    "        image = get_image()\n",
    "        Image.append(image)    \n",
    " \n",
    "        Category.append(\"19th Century Paintings\")\n",
    "   \n",
    "        \n",
    "        \n",
    "    driver.close()\n",
    "    driver.switch_to.window(driver.window_handles[1])\n",
    "\n",
    "driver.close()\n",
    "driver.switch_to.window(driver.window_handles[0])\n"
   ]
  },
  {
   "cell_type": "code",
   "execution_count": null,
   "metadata": {},
   "outputs": [],
   "source": [
    "driver.close()"
   ]
  },
  {
   "cell_type": "markdown",
   "metadata": {},
   "source": [
    "## Create a DataFrame from lists we have created"
   ]
  },
  {
   "cell_type": "code",
   "execution_count": null,
   "metadata": {},
   "outputs": [],
   "source": [
    "import pandas as pd\n",
    "print(len(Artist))\n",
    "print(len(Title))\n",
    "print(len(Location))\n",
    "print(len(Auction_Date))\n",
    "print(len(Signed))\n",
    "print(len(Sold))\n",
    "print(len(Estimate))\n",
    "print(len(SellingPrice))\n",
    "print(len(Category))\n",
    "print(len(Auction_Name))\n",
    "print(len(Image))\n",
    "#Create a Dataframe from lists we have created\n",
    "data = {'Artist': Artist, 'Title': Title, 'Location': Location, 'Date': Auction_Date, 'Signed': Signed, 'Sold': Sold, 'Selling Price': SellingPrice, 'Estimate': Estimate, 'Category': Category, \"Auction Name\": Auction_Name, \"Image\": Image}\n",
    "df = pd.DataFrame(data)\n",
    "df.to_csv('SothebysData.csv')"
   ]
  },
  {
   "cell_type": "code",
   "execution_count": null,
   "metadata": {},
   "outputs": [],
   "source": [
    "data"
   ]
  }
 ],
 "metadata": {
  "kernelspec": {
   "display_name": "Python 3 (ipykernel)",
   "language": "python",
   "name": "python3"
  },
  "language_info": {
   "codemirror_mode": {
    "name": "ipython",
    "version": 3
   },
   "file_extension": ".py",
   "mimetype": "text/x-python",
   "name": "python",
   "nbconvert_exporter": "python",
   "pygments_lexer": "ipython3",
   "version": "3.9.7"
  },
  "nav_menu": {},
  "toc": {
   "base_numbering": 1,
   "nav_menu": {},
   "number_sections": false,
   "sideBar": true,
   "skip_h1_title": false,
   "title_cell": "Table of Contents",
   "title_sidebar": "Contents",
   "toc_cell": false,
   "toc_position": {},
   "toc_section_display": "block",
   "toc_window_display": true
  },
  "varInspector": {
   "cols": {
    "lenName": 16,
    "lenType": 16,
    "lenVar": 40
   },
   "kernels_config": {
    "python": {
     "delete_cmd_postfix": "",
     "delete_cmd_prefix": "del ",
     "library": "var_list.py",
     "varRefreshCmd": "print(var_dic_list())"
    },
    "r": {
     "delete_cmd_postfix": ") ",
     "delete_cmd_prefix": "rm(",
     "library": "var_list.r",
     "varRefreshCmd": "cat(var_dic_list()) "
    }
   },
   "types_to_exclude": [
    "module",
    "function",
    "builtin_function_or_method",
    "instance",
    "_Feature"
   ],
   "window_display": false
  }
 },
 "nbformat": 4,
 "nbformat_minor": 2
}
