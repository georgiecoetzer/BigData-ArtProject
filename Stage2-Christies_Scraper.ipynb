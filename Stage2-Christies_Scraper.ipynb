{
 "cells": [
  {
   "cell_type": "code",
   "execution_count": 1,
   "id": "a28b56bb",
   "metadata": {},
   "outputs": [],
   "source": [
    "#imports everything needed to scrape\n",
    "from selenium import webdriver\n",
    "from selenium.webdriver.common.keys import Keys\n",
    "from selenium.webdriver.common.by import By\n",
    "from selenium.webdriver.support.ui import WebDriverWait\n",
    "from selenium.webdriver.support import expected_conditions as EC\n",
    "from selenium.webdriver.common.action_chains import ActionChains\n",
    "import pandas as pd\n",
    "import numpy as np\n",
    "import time\n",
    "import random"
   ]
  },
  {
   "cell_type": "markdown",
   "id": "3f04f6a2",
   "metadata": {},
   "source": [
    "## Opens up CSV from Stage 1"
   ]
  },
  {
   "cell_type": "code",
   "execution_count": 2,
   "id": "7a34e364",
   "metadata": {},
   "outputs": [],
   "source": [
    "df = pd.read_csv ('Christies_Auction_Details.csv')"
   ]
  },
  {
   "cell_type": "markdown",
   "id": "482584da",
   "metadata": {},
   "source": [
    "## Function to Close Cookie PopUp"
   ]
  },
  {
   "cell_type": "code",
   "execution_count": 3,
   "id": "e6662b97",
   "metadata": {},
   "outputs": [],
   "source": [
    "def CookieCloser():\n",
    "    try:\n",
    "        cookie_event = WebDriverWait(driver, .05).until(\n",
    "            EC.presence_of_element_located((By.ID ,\"onetrust-accept-btn-handler\"))\n",
    "        )\n",
    "        cookie_event.click()\n",
    "    except:\n",
    "        pass"
   ]
  },
  {
   "cell_type": "markdown",
   "id": "c86cb582",
   "metadata": {},
   "source": [
    "## Function to Close Email PopUp"
   ]
  },
  {
   "cell_type": "code",
   "execution_count": 4,
   "id": "e65f71a2",
   "metadata": {},
   "outputs": [],
   "source": [
    "def ClickEmail():\n",
    "    try:\n",
    "        email_event = WebDriverWait(driver, .05).until(\n",
    "            EC.presence_of_element_located((By.ID ,\"close_signup\"))\n",
    "        )\n",
    "        time.sleep(.05)\n",
    "        email_event.click()\n",
    "    except:\n",
    "        pass"
   ]
  },
  {
   "cell_type": "markdown",
   "id": "317113c4",
   "metadata": {},
   "source": [
    "## Function Loads All Artworks onto the Page"
   ]
  },
  {
   "cell_type": "code",
   "execution_count": 5,
   "id": "dbcbe13b",
   "metadata": {},
   "outputs": [],
   "source": [
    "def Click_LoadAll():\n",
    "    \n",
    "    load_all = driver.find_element(By.XPATH, '//*[text()=\"Load all\"]') \n",
    "    \n",
    "    desired_y = (load_all.size['height'] / 2) + load_all.location['y']\n",
    "    current_y = (driver.execute_script('return window.innerHeight') / 2) + driver.execute_script('return window.pageYOffset')\n",
    "    scroll_y_by = desired_y - current_y\n",
    "    driver.execute_script(\"window.scrollBy(0, arguments[0]);\", scroll_y_by)\n",
    "    \n",
    "    time.sleep(1)\n",
    "    load_all.click()\n",
    "    print(\"!!!CLICK!!!\")"
   ]
  },
  {
   "cell_type": "markdown",
   "id": "e53d91ec",
   "metadata": {},
   "source": [
    "## Function Returns You to the Top of the Page"
   ]
  },
  {
   "cell_type": "code",
   "execution_count": 6,
   "id": "223202bd",
   "metadata": {},
   "outputs": [],
   "source": [
    "def To_Top_of_Page():\n",
    "    \n",
    "    top_of_page = driver.find_element(By.CLASS_NAME, 'chr-header__panel')\n",
    "    \n",
    "    time.sleep(.2)\n",
    "    driver.execute_script(\"arguments[0].scrollIntoView();\", top_of_page)\n",
    "    time.sleep(.2)"
   ]
  },
  {
   "cell_type": "markdown",
   "id": "da047879",
   "metadata": {},
   "source": [
    "## Function Returns You to the Bottom of the Page"
   ]
  },
  {
   "cell_type": "code",
   "execution_count": 7,
   "id": "1c1efc7d",
   "metadata": {},
   "outputs": [],
   "source": [
    "def To_Bottom_of_Page():\n",
    "    \n",
    "    bottom_of_page = driver.find_element(By.XPATH, '/html/body/chr-footer/footer/div/p')\n",
    "    \n",
    "    time.sleep(.2)\n",
    "    driver.execute_script(\"arguments[0].scrollIntoView();\", bottom_of_page)\n",
    "    time.sleep(.2)"
   ]
  },
  {
   "cell_type": "code",
   "execution_count": 8,
   "id": "d2bdb8a8",
   "metadata": {},
   "outputs": [],
   "source": [
    "def Extract_Art_Work_URL(Auction_URL):\n",
    "    \n",
    "    Art_Work_URL = []\n",
    "    \n",
    "    #Online only auctions have a different layout to the regular auctions and must be navigated differently\n",
    "    if \"onlineonly\" in Auction_URL:\n",
    "        \n",
    "        #Scrolls down in increments to load items on the page\n",
    "        y = 1000\n",
    "        for timer in range(0,20):\n",
    "            driver.execute_script(\"window.scrollTo(0, \"+str(y)+\")\")\n",
    "            y += 1000  \n",
    "            time.sleep(1)\n",
    "        \n",
    "        #once the scroler is done we return to the top of the page\n",
    "        To_Top_of_Page()\n",
    "        \n",
    "        #Collects all of the artwork URLs\n",
    "        main = WebDriverWait(driver, 10).until(\n",
    "            EC.presence_of_element_located((By.ID, \"main-content\"))\n",
    "        )\n",
    "        \n",
    "        ul = WebDriverWait(driver, 10,1).until(\n",
    "                EC.presence_of_element_located((By.XPATH, '//*[@id=\"main-content\"]/section/div/chr-infinite-scroll/ul'))\n",
    "            )\n",
    "        \n",
    "        ArtWorks = ul.find_elements(By.TAG_NAME, 'li')\n",
    "        \n",
    "    else:\n",
    "        \n",
    "        #Finds and clicks load all and returns to the top of the page\n",
    "        Click_LoadAll()\n",
    "        To_Top_of_Page()\n",
    "        \n",
    "        #Collects all of the artwork URLs\n",
    "        main = WebDriverWait(driver, 10).until(\n",
    "            EC.presence_of_element_located((By.ID, \"main-content\"))\n",
    "        )\n",
    "        \n",
    "        ul = WebDriverWait(driver, 10,1).until(\n",
    "                EC.presence_of_element_located((By.XPATH, '//*[@id=\"main-content\"]/section/div/ul'))\n",
    "            )\n",
    "        \n",
    "        ArtWorks = ul.find_elements(By.TAG_NAME, 'li')\n",
    "    \n",
    "    for work in ArtWorks:\n",
    "        try:\n",
    "            URL = work.find_element(By.TAG_NAME, 'a')\n",
    "            Art_Work_URL.append(URL.get_attribute('href'))\n",
    "        except:\n",
    "            print(\"error appending list of art\")\n",
    "        \n",
    "    return Art_Work_URL\n",
    "        \n",
    "    "
   ]
  },
  {
   "cell_type": "code",
   "execution_count": 9,
   "id": "5349ea9a",
   "metadata": {
    "scrolled": true
   },
   "outputs": [
    {
     "name": "stderr",
     "output_type": "stream",
     "text": [
      "/var/folders/48/1t2lf7js69g6my_l4x0npdrw0000gn/T/ipykernel_28133/1808668305.py:3: DeprecationWarning: executable_path has been deprecated, please pass in a Service object\n",
      "  driver = webdriver.Chrome(Path)\n"
     ]
    }
   ],
   "source": [
    "#given a path launches a website\n",
    "Path = \"/Users/ramirostorni/Documents/chromedriver\"\n",
    "driver = webdriver.Chrome(Path)\n"
   ]
  },
  {
   "cell_type": "markdown",
   "id": "b4bc8b7b",
   "metadata": {},
   "source": [
    "## Data Collection Loop"
   ]
  },
  {
   "cell_type": "code",
   "execution_count": 10,
   "id": "6f927613",
   "metadata": {
    "scrolled": false
   },
   "outputs": [
    {
     "name": "stdout",
     "output_type": "stream",
     "text": [
      "ERROR:  https://onlineonly.christies.com/sso?SaleID=29505&SaleNumber=20823\n"
     ]
    },
    {
     "ename": "NameError",
     "evalue": "name 'List_of_URL' is not defined",
     "output_type": "error",
     "traceback": [
      "\u001b[0;31m---------------------------------------------------------------------------\u001b[0m",
      "\u001b[0;31mNameError\u001b[0m                                 Traceback (most recent call last)",
      "\u001b[0;32m/var/folders/48/1t2lf7js69g6my_l4x0npdrw0000gn/T/ipykernel_28133/4231704957.py\u001b[0m in \u001b[0;36m<module>\u001b[0;34m\u001b[0m\n\u001b[1;32m     15\u001b[0m         \u001b[0mprint\u001b[0m\u001b[0;34m(\u001b[0m\u001b[0;34m\"ERROR: \"\u001b[0m\u001b[0;34m,\u001b[0m \u001b[0mAuction_URL\u001b[0m\u001b[0;34m)\u001b[0m\u001b[0;34m\u001b[0m\u001b[0;34m\u001b[0m\u001b[0m\n\u001b[1;32m     16\u001b[0m \u001b[0;34m\u001b[0m\u001b[0m\n\u001b[0;32m---> 17\u001b[0;31m     \u001b[0mAll_Art_URL\u001b[0m\u001b[0;34m.\u001b[0m\u001b[0mappend\u001b[0m\u001b[0;34m(\u001b[0m\u001b[0mList_of_URL\u001b[0m\u001b[0;34m)\u001b[0m\u001b[0;34m\u001b[0m\u001b[0;34m\u001b[0m\u001b[0m\n\u001b[0m\u001b[1;32m     18\u001b[0m \u001b[0;34m\u001b[0m\u001b[0m\n\u001b[1;32m     19\u001b[0m \u001b[0;34m\u001b[0m\u001b[0m\n",
      "\u001b[0;31mNameError\u001b[0m: name 'List_of_URL' is not defined"
     ]
    }
   ],
   "source": [
    "All_Art_URL = []\n",
    "for Auction_URL in df[\"URL\"]:\n",
    "    \n",
    "    try:\n",
    "        driver.get(Auction_URL)\n",
    "        driver.maximize_window()\n",
    "        CookieCloser()\n",
    "#         driver.refresh()\n",
    "        ClickEmail()\n",
    "        List_of_URL = Extract_Art_Work_URL(Auction_URL)\n",
    "        \n",
    "    except:\n",
    "        ClickEmail()\n",
    "        print(\"ERROR: \", Auction_URL)\n",
    "    \n",
    "    All_Art_URL.append(List_of_URL)\n",
    "   \n",
    "        "
   ]
  },
  {
   "cell_type": "markdown",
   "id": "59bd793d",
   "metadata": {},
   "source": [
    "## saves all the object urls"
   ]
  },
  {
   "cell_type": "code",
   "execution_count": null,
   "id": "0980fdd3",
   "metadata": {},
   "outputs": [],
   "source": [
    "flat_list = [item for sublist in All_Art_URL for item in sublist]"
   ]
  },
  {
   "cell_type": "code",
   "execution_count": null,
   "id": "7c5968e2",
   "metadata": {},
   "outputs": [],
   "source": [
    "df = pd.DataFrame(flat_list, columns =[\"Art_URL\"])\n",
    "df.head(10)"
   ]
  },
  {
   "cell_type": "code",
   "execution_count": null,
   "id": "0ca3eec4",
   "metadata": {},
   "outputs": [],
   "source": [
    "df.to_csv(\"Art_Object_URL.csv\", index = False)"
   ]
  },
  {
   "cell_type": "code",
   "execution_count": null,
   "id": "2b5eedd7",
   "metadata": {},
   "outputs": [],
   "source": []
  }
 ],
 "metadata": {
  "kernelspec": {
   "display_name": "Python 3 (ipykernel)",
   "language": "python",
   "name": "python3"
  },
  "language_info": {
   "codemirror_mode": {
    "name": "ipython",
    "version": 3
   },
   "file_extension": ".py",
   "mimetype": "text/x-python",
   "name": "python",
   "nbconvert_exporter": "python",
   "pygments_lexer": "ipython3",
   "version": "3.9.7"
  }
 },
 "nbformat": 4,
 "nbformat_minor": 5
}
